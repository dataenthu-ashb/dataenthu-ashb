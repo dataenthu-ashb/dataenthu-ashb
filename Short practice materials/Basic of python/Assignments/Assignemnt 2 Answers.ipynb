{
 "cells": [
  {
   "cell_type": "markdown",
   "metadata": {
    "id": "wQkLqQWAp7TB"
   },
   "source": [
    "# Assignment 2\n",
    "\n",
    "*   This assignment is backed by the Notebooks relating to practice material 2\n",
    "*   The assignment should be made individually.\n",
    "*   You are encouraged to manipulate your answers further then needed, to increase your learning process.\n",
    "\n",
    "Learning outcomes:\n",
    "- String parsing\n",
    "- Loops\n",
    "- Lists\n",
    "- Conditionals"
   ]
  },
  {
   "cell_type": "markdown",
   "metadata": {
    "id": "eC7Xp9ljqbg0"
   },
   "source": [
    "## Question 1\n",
    "Kes goes to the market and likes to buy herself some nice and fresh ingrediants. She can buy salmon (200 gram) for 4 euros, advocados for 1 euro a piece and bread for 0.95 euro per loaf. Ask the user how much Kes buys this Saturday and calculate how much it costs. The print statement must be in a nice format, we don't want to sound weird and tell her to pay 1 euros or 0 euros and 95 cents. Thus you must format the senctence so that it is grammatically correct and that it does not include unessarty parts. Format it along the lines of \"You spend x euro(s) and y cents at the market this Saturday.\".\n",
    "\n",
    "Example 1:\n",
    "\n",
    "Input: 1 portion of salmon and 2 advocados and 1 loaf of bread.\n",
    "\n",
    "Output: You spend 6 euros and 95 cents at the market this Saturday.\n",
    "\n",
    "Example 2:\n",
    "\n",
    "Input: 1 advocado\n",
    "\n",
    "Output: You spend 1 euro at the market this Saturday."
   ]
  },
  {
   "cell_type": "code",
   "execution_count": null,
   "metadata": {
    "colab": {
     "base_uri": "https://localhost:8080/"
    },
    "executionInfo": {
     "elapsed": 3434,
     "status": "ok",
     "timestamp": 1699544626705,
     "user": {
      "displayName": "Kes Visser",
      "userId": "11151376919227169087"
     },
     "user_tz": -60
    },
    "id": "7Q8iWvGLpwFh",
    "outputId": "05f31623-9dfd-4464-ab54-23d1d344de9f"
   },
   "outputs": [
    {
     "name": "stdout",
     "output_type": "stream",
     "text": [
      "How many units of salmon?1\n",
      "How many advocados?1\n",
      "How many loafs of bread?1\n",
      "You spend 5 euros and 95 cents at the market this Saturday\n"
     ]
    }
   ],
   "source": [
    "#finish the code\n",
    "PRICE_SALMON = 400\n",
    "PRICE_ADVOCADO = 100\n",
    "PRICE_BREAD = 95\n",
    "\n",
    "num_salmon = int(input(\"How many units of salmon?\"))\n",
    "num_advocados = int(input(\"How many advocados?\"))\n",
    "num_bread = int(input(\"How many loafs of bread?\"))\n",
    "\n",
    "price = PRICE_SALMON * num_salmon + PRICE_ADVOCADO * num_advocados + PRICE_BREAD * num_bread\n",
    "\n",
    "if price < 100:\n",
    "  print(\"You spend \", price, \" cents at the market this Saturday\")\n",
    "elif price == 100:\n",
    "  print(\"You spend\", price/100, \"euro at the market this Saturday\")\n",
    "else:\n",
    "  euro = int(price/100)\n",
    "  cents = price%100\n",
    "  print(\"You spend\", euro, \"euros and\", cents, \"cents at the market this Saturday\")\n"
   ]
  },
  {
   "cell_type": "markdown",
   "metadata": {
    "id": "aciAZ409qeTX"
   },
   "source": [
    "## Question 2\n",
    "Write a program that finds the maximum and minimum of a list of integers. You can use 'numbers = [23, 40, 3, 5, 75, 97, 23, 65, 24]' as test input."
   ]
  },
  {
   "cell_type": "code",
   "execution_count": null,
   "metadata": {
    "colab": {
     "base_uri": "https://localhost:8080/"
    },
    "executionInfo": {
     "elapsed": 5,
     "status": "ok",
     "timestamp": 1699545014457,
     "user": {
      "displayName": "Kes Visser",
      "userId": "11151376919227169087"
     },
     "user_tz": -60
    },
    "id": "nVUEF0OCqgYc",
    "outputId": "30d96ad5-e2d9-401f-cc2f-3911483a8ec5"
   },
   "outputs": [
    {
     "name": "stdout",
     "output_type": "stream",
     "text": [
      "97 3 97 3\n"
     ]
    }
   ],
   "source": [
    "numbers = [23, 40, 3, 5, 75, 97, 23, 65, 24] #test input\n",
    "#Your program here\n",
    "min1 = min(numbers)\n",
    "max1 = max(numbers)\n",
    "\n",
    "min2 = 10000\n",
    "max2 = 0\n",
    "for num in numbers:\n",
    "  if num < min2:\n",
    "    min2 = num\n",
    "  if num > max2:\n",
    "    max2 = num\n",
    "\n",
    "print(max1, min1, max2, min2)"
   ]
  },
  {
   "cell_type": "markdown",
   "metadata": {
    "id": "3L1uczGSqgti"
   },
   "source": [
    "## Question 3\n",
    "\n",
    "Write a Python program to calculate the factorial of a given number using a loop. The factorial of a number *n* (denoted as *n!*) is the product of all positive integers from 1 to *n*. The factorial of e.g. 5 = 5! = 5x4x3x2x1 = 120. Ask the user for a number (under a 100) and print the factorial."
   ]
  },
  {
   "cell_type": "code",
   "execution_count": null,
   "metadata": {
    "colab": {
     "base_uri": "https://localhost:8080/"
    },
    "executionInfo": {
     "elapsed": 2076,
     "status": "ok",
     "timestamp": 1699545175008,
     "user": {
      "displayName": "Kes Visser",
      "userId": "11151376919227169087"
     },
     "user_tz": -60
    },
    "id": "9C9WvrwdqitI",
    "outputId": "ac6f8582-7ee4-4a66-ecf5-3b0cf36dbadc"
   },
   "outputs": [
    {
     "name": "stdout",
     "output_type": "stream",
     "text": [
      "What number?3\n",
      "6\n"
     ]
    }
   ],
   "source": [
    "#Your program here\n",
    "n = int(input(\"What number?\"))\n",
    "#for completness\n",
    "if n == 0:\n",
    "  print(0)\n",
    "elif n < 0:\n",
    "  print(\"incorrect input\")\n",
    "else:\n",
    "  factorial = 1\n",
    "  for num in range(1, n+1):\n",
    "    factorial *= num\n",
    "  print(factorial)"
   ]
  },
  {
   "cell_type": "markdown",
   "metadata": {
    "id": "_WznIuNuqjJ6"
   },
   "source": [
    "## Question 4\n",
    "\n",
    "Write a Python program that checks whether a given word is a palindrome or not. A palindrome is a word that reads the same backward as forward (e.g., \"radar\" or \"madam\"). The user should input a word, and the program should output whether the word is a palindrome or not."
   ]
  },
  {
   "cell_type": "code",
   "execution_count": null,
   "metadata": {
    "colab": {
     "base_uri": "https://localhost:8080/"
    },
    "executionInfo": {
     "elapsed": 3517,
     "status": "ok",
     "timestamp": 1699545866375,
     "user": {
      "displayName": "Kes Visser",
      "userId": "11151376919227169087"
     },
     "user_tz": -60
    },
    "id": "-GgYbDgbqlAp",
    "outputId": "c275748b-6a7a-4be4-f1a0-73bc1417156c"
   },
   "outputs": [
    {
     "name": "stdout",
     "output_type": "stream",
     "text": [
      "What word do you want to check?high\n",
      "['h', 'i', 'g', 'h']\n",
      "False\n"
     ]
    }
   ],
   "source": [
    "#Your program here\n",
    "word = input(\"What word do you want to check?\")\n",
    "letters = list(word)\n",
    "\n",
    "palindrome = True\n",
    "for [  t hix in range(len(letters)):\n",
    "  if x >= len(letters)/2:\n",
    "    break\n",
    "  if letters[x] != letters[-(x+1)]:\n",
    "    palindrome = False\n",
    "    break\n",
    "\n",
    "print(palindrome)"
   ]
  },
  {
   "cell_type": "markdown",
   "metadata": {
    "id": "McdtS6TyqmkI"
   },
   "source": [
    "## Question 5\n",
    "\n",
    "Sara and Thanos were talking about their birthdays and wheter or not they were born in a leap year. Thanos was born in 1900 and says that it is not a leap year but Sara says it was. A leap year is a year that is divisible by 4, except for end-of-century years (100), which must be divisible by 400 to be a leap year.  Write a program that asks a user for a year and print if it is a leap year or not."
   ]
  },
  {
   "cell_type": "code",
   "execution_count": null,
   "metadata": {
    "colab": {
     "base_uri": "https://localhost:8080/"
    },
    "executionInfo": {
     "elapsed": 2440,
     "status": "ok",
     "timestamp": 1699546022441,
     "user": {
      "displayName": "Kes Visser",
      "userId": "11151376919227169087"
     },
     "user_tz": -60
    },
    "id": "ZQIyB1_pzH-E",
    "outputId": "89454bfa-197a-42a7-97e7-f52744752ba5"
   },
   "outputs": [
    {
     "name": "stdout",
     "output_type": "stream",
     "text": [
      "What year?1900\n",
      "1900 is not a Leap Year\n"
     ]
    }
   ],
   "source": [
    "#Your code here\n",
    "\n",
    "year = int(input(\"What year?\"))\n",
    "\n",
    "if (year%400 == 0) or (year%4==0 and year%100!=0):\n",
    "    print(year, \"is a leap Year\")\n",
    "else:\n",
    "    print(year, \"is not a Leap Year\")"
   ]
  }
 ],
 "metadata": {
  "colab": {
   "provenance": []
  },
  "kernelspec": {
   "display_name": "Python 3 (ipykernel)",
   "language": "python",
   "name": "python3"
  },
  "language_info": {
   "codemirror_mode": {
    "name": "ipython",
    "version": 3
   },
   "file_extension": ".py",
   "mimetype": "text/x-python",
   "name": "python",
   "nbconvert_exporter": "python",
   "pygments_lexer": "ipython3",
   "version": "3.12.4"
  }
 },
 "nbformat": 4,
 "nbformat_minor": 4
}
