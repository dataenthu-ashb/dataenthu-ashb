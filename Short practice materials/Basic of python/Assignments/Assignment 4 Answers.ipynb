{
 "cells": [
  {
   "cell_type": "markdown",
   "metadata": {
    "id": "6Lj7u5jAxGUM"
   },
   "source": [
    "# **Assignment 4**\n",
    "\n",
    "*   The contents is mostly focused on control flows and loops, however the basic introductory knowledge from the previous weeks on topics such as `functions`, `lists` and `input` is also needed to solve these excercises.\n",
    "*   Each student must complete the assignment independently, without copying code or collaborating with others.\n",
    "*   To enhance your learning, go beyond the minimum requirements by experimenting with and modifying your solutions. This additional effort will deepen your understanding of the material.\n"
   ]
  },
  {
   "cell_type": "markdown",
   "metadata": {
    "id": "8tQ4_GPnxJyp"
   },
   "source": [
    "# *Question 1:*\n",
    "\n",
    "First, define a function 'cube' that takes an aurgument called 'number', such that it will return the cube of that argument number.(i.e.multiplying the number by itself twice)\n",
    "\n",
    "Define a second function called by_three that takes an argument called number in such a way that if number is divisible by 3, `by_three()` function should call `cube(number)`function and return its result, Else `by_three()` function should return False.\n",
    "\n",
    "A test case would be:\n",
    "- cube(3) returning 27\n",
    "- by_three(9) returning 729\n",
    "- by_three(8) returning False"
   ]
  },
  {
   "cell_type": "code",
   "execution_count": null,
   "metadata": {
    "colab": {
     "base_uri": "https://localhost:8080/"
    },
    "executionInfo": {
     "elapsed": 332,
     "status": "ok",
     "timestamp": 1732282978717,
     "user": {
      "displayName": "Turing Students Rotterdam",
      "userId": "06334287303224487656"
     },
     "user_tz": -60
    },
    "id": "IO4KoH52w5Eg",
    "outputId": "07a520fb-d354-4baa-a908-d2bc5af190e1"
   },
   "outputs": [
    {
     "data": {
      "text/plain": [
       "27"
      ]
     },
     "execution_count": 3,
     "metadata": {},
     "output_type": "execute_result"
    }
   ],
   "source": [
    "# Example sub-question (i):\n",
    "def cube(number):\n",
    "    return number*number*number\n",
    "\n",
    "def by_three(number):\n",
    "    if number %3 ==0:\n",
    "      return cube(number)\n",
    "    else:\n",
    "      return False\n",
    "\n",
    "by_three(3)"
   ]
  },
  {
   "cell_type": "markdown",
   "metadata": {
    "id": "bgV7AnNadZaf"
   },
   "source": [
    "# *Question 2:*\n",
    "\n",
    "\n",
    "Create a Vehicle class with max_speed and mileage instance attributes.\n",
    "\n",
    "i) Create an object called ModelX with `Max Speed = 240` and `Mileage = 18`\n",
    "\n",
    "ii) Print the max_speed and mileage of the object you created\n",
    "\n",
    "iii) Write a method(another word for function) in the Vehicle class called `MaxSpeed_per_Mileage()` that takes the Max speed of the object and divides it by the mileage of the object and returns this value. Print this result.\n",
    "\n",
    "A test case would be:\n",
    "- calling `ModelX.MaxSpeed_per_Mileage()` shoulde return 13.3"
   ]
  },
  {
   "cell_type": "code",
   "execution_count": null,
   "metadata": {
    "colab": {
     "base_uri": "https://localhost:8080/"
    },
    "id": "1b8KdQ5idYoX",
    "outputId": "e2877458-cb52-4b1c-f5d0-61064e872b77"
   },
   "outputs": [
    {
     "name": "stdout",
     "output_type": "stream",
     "text": [
      "240 18\n",
      "13.333333333333334\n"
     ]
    }
   ],
   "source": [
    "# Write answer here.\n",
    "\n",
    "class Vehicle:\n",
    "  #constructer method\n",
    "    def __init__(self, max_speed, mileage):\n",
    "        self.max_speed = max_speed\n",
    "        self.mileage = mileage\n",
    "\n",
    "    def MaxSpeed_per_Mileage(self):\n",
    "        return self.max_speed/self.mileage\n",
    "\n",
    "modelX = Vehicle(240, 18) # max speed and mileage are the attributes of the instance modelX (object) of the class Vehicle\n",
    "print(modelX.max_speed, modelX.mileage)\n",
    "print(modelX.MaxSpeed_per_Mileage())"
   ]
  },
  {
   "cell_type": "markdown",
   "metadata": {
    "id": "eG-WDtcGxAKX"
   },
   "source": [
    "# *Question 3:*\n",
    "\n",
    "This challenge is an English twist on the Japanese word game Shiritori. The basic premise is to follow two rules:\n",
    "\n",
    "1) First character of next word must match last character of previous word.\n",
    "\n",
    "2) The word must not have already been said.\n",
    "\n",
    "\n",
    "Write a Shiritori class that has two instance variables:\n",
    "- Begin by initialising the class with the following atributes\n",
    "  - words: a list of words already said.\n",
    "  - game_over: a boolean that is true if the game is over.\n",
    "\n",
    "Then create the following two Methods (another word for function):\n",
    "\n",
    "- play(self,word): a method that takes in a word as an argument and checks if it is valid (the word should follow rules #1 and #2 above).\n",
    "  - If it is valid, it adds the word to the words list, and returns the words list.\n",
    "  - If it is invalid (either rule is broken), it returns \"game over\" and sets the game_over boolean to true.\n",
    "\n",
    "- restart: a method that sets the words list to an empty one [] and sets the game_over boolean to false. It should return \"game restarted\".\n",
    "\n",
    "\n",
    "# Below is an example of a Shiritori game:\n",
    "\n",
    "[\"word\", \"dowry\", \"yodel\", \"leader\", \"righteous\", \"serpent\"]  #valid!\n",
    "\n",
    "[\"motive\", \"beach\"]  # invalid! - The word should start with \"e\", beach does not start with \"e\",\n",
    "\n",
    "[\"hive\", \"eh\", \"hive\"]  # invalid! - \"hive\" has already been said\n",
    "\n",
    "# Examples when running the methods\n",
    "\n",
    "my_shiritori = Shiritori()\n",
    "\n",
    "\n",
    "my_shiritori.play(\"apple\") ➞ [\"apple\"]\n",
    "\n",
    "my_shiritori.play(\"ear\") ➞ [\"apple\", \"ear\"]\n",
    "\n",
    "my_shiritori.play(\"rhino\") ➞ [\"apple\", \"ear\", \"rhino\"]\n",
    "\n",
    "my_shiritori.play(\"corn\") ➞ \"game over\" # Corn does not start with an \"o\".\n",
    "\n",
    "my_shiritori.words ➞  [\"apple\", \"ear\", \"rhino\"]\n",
    "\n",
    "#Restarting a game(Words list should be set back to empty.)\n",
    "\n",
    "my_shiritori.restart() ➞ \"game restarted\"\n",
    "\n",
    "my_shiritori.words ➞ []\n",
    "\n",
    "#Words cannot have already been said.\n",
    "my_shiritori.play(\"hostess\") ➞ [\"hostess\"]\n",
    "\n",
    "my_shiritori.play(\"stash\") ➞ [\"hostess\", \"stash\"]\n",
    "\n",
    "my_shiritori.play(\"hostess\") ➞ \"game over\"\n"
   ]
  },
  {
   "cell_type": "code",
   "execution_count": null,
   "metadata": {
    "colab": {
     "base_uri": "https://localhost:8080/",
     "height": 35
    },
    "executionInfo": {
     "elapsed": 408,
     "status": "ok",
     "timestamp": 1732285478105,
     "user": {
      "displayName": "Turing Students Rotterdam",
      "userId": "06334287303224487656"
     },
     "user_tz": -60
    },
    "id": "M2KdzoX1AeK3",
    "outputId": "4e0bd1b7-5de0-4c90-d1c4-a1995866bca3"
   },
   "outputs": [
    {
     "data": {
      "application/vnd.google.colaboratory.intrinsic+json": {
       "type": "string"
      },
      "text/plain": [
       "'game over'"
      ]
     },
     "execution_count": 13,
     "metadata": {},
     "output_type": "execute_result"
    }
   ],
   "source": [
    "class Shiritori:\n",
    "  def __init__(self):\n",
    "    self.words = []\n",
    "    self.game_over = False\n",
    "\n",
    "  def play(self,new):\n",
    "    if self.words == [] or (new[0] == self.words[-1][-1] and new not in self.words):\n",
    "      self.words.append(new)\n",
    "      return self.words\n",
    "    self.game_over = True\n",
    "    return \"game over\"\n",
    "\n",
    "  def restart(self):\n",
    "    self.__init__()\n",
    "    return \"game restarted\"\n",
    "\n",
    "my_shiritori = Shiritori()\n",
    "my_shiritori.play(\"apple\")\n",
    "my_shiritori.play(\"ear\")\n",
    "my_shiritori.play(\"rhino\")\n",
    "my_shiritori.play(\"ocular\")\n",
    "my_shiritori.play(\"rhino\")\n",
    "\n",
    "\n"
   ]
  }
 ],
 "metadata": {
  "colab": {
   "provenance": [
    {
     "file_id": "1isLQHGhA_EJ5kfziq2yX_CWE9d-RwXZt",
     "timestamp": 1672154810243
    }
   ]
  },
  "kernelspec": {
   "display_name": "Python 3 (ipykernel)",
   "language": "python",
   "name": "python3"
  },
  "language_info": {
   "codemirror_mode": {
    "name": "ipython",
    "version": 3
   },
   "file_extension": ".py",
   "mimetype": "text/x-python",
   "name": "python",
   "nbconvert_exporter": "python",
   "pygments_lexer": "ipython3",
   "version": "3.12.4"
  }
 },
 "nbformat": 4,
 "nbformat_minor": 4
}
