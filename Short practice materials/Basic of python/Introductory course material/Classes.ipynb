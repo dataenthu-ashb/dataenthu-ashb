{
 "cells": [
  {
   "cell_type": "markdown",
   "metadata": {
    "id": "YwTN1TwLyHwA"
   },
   "source": [
    "$$\n",
    "\\def\\CC{\\bf C}\n",
    "\\def\\QQ{\\bf Q}\n",
    "\\def\\RR{\\bf R}\n",
    "\\def\\ZZ{\\bf Z}\n",
    "\\def\\NN{\\bf N}\n",
    "$$\n",
    "# 1. Classes\n",
    "\n",
    "You have already seen how to use a dictionary to group related data, and how to use functions to create shortcuts for commonly used groups of statements. A function performs an action using some set\n",
    "of input parameters, but not all functions are applicable to all kinds of\n",
    "data. *Classes* are a way of grouping together related data *and* the functions which act upon that data.\n",
    "\n",
    "A class is a data type, just like a string, integer or list.\n",
    "When you create an object of that data type, it's called an *instance* of a class.\n",
    "\n",
    "As mentioned before, in some other languages not all entities are objects. In Python, everything is an object -- everything is an instance of some class. In earlier versions of Python a\n",
    "distinction was made between built-in types and user-defined classes,\n",
    "but these are now completely indistinguishable. Classes and types are\n",
    "themselves objects, and they are of type `type`. You can find out the\n",
    "type of any object using the `type` function:"
   ]
  },
  {
   "cell_type": "code",
   "execution_count": null,
   "metadata": {
    "id": "gNnzqxd6yHwA"
   },
   "outputs": [],
   "source": [
    "type(any_object)"
   ]
  },
  {
   "cell_type": "markdown",
   "metadata": {
    "id": "oGbbma6QO5NF"
   },
   "source": [
    "The data values which is stored inside an object are called *attributes*,\n",
    "and the functions which are associated with the object are called\n",
    "*methods*. You have already used the methods of some built-in objects,\n",
    "like strings and lists.\n",
    "\n",
    "When designing your own objects, you have to decide how you're going to\n",
    "group things together, and what your objects are going to represent.\n",
    "\n",
    "Sometimes objects are mapped very intuitively onto things in the\n",
    "real world. For example, if you're writing code to simulate chemical\n",
    "reactions, you might have `Atom` objects which you can combine to make a\n",
    "`Molecule` object. However, it isn't always necessary, desirable or even\n",
    "possible to make all code objects perfectly analogous to their\n",
    "real-world counterparts.\n",
    "\n",
    "Sometimes you may create objects which don't have any kind of real-world\n",
    "equivalent, just because it's useful to group certain functions\n",
    "together."
   ]
  },
  {
   "cell_type": "markdown",
   "metadata": {
    "id": "TjK-KRDAyHwF"
   },
   "source": [
    "## 1.1. Defining and using a class\n",
    "\n",
    "Here is an example of a simple custom class which stores information\n",
    "about a person:"
   ]
  },
  {
   "cell_type": "code",
   "execution_count": null,
   "metadata": {
    "colab": {
     "base_uri": "https://localhost:8080/"
    },
    "executionInfo": {
     "elapsed": 195,
     "status": "ok",
     "timestamp": 1732399735170,
     "user": {
      "displayName": "Avril Rodriguez",
      "userId": "11151376919227169087"
     },
     "user_tz": -60
    },
    "id": "39YsXWXyyHwG",
    "outputId": "2d2cb193-1f18-412a-cbda-620aca6609c4"
   },
   "outputs": [
    {
     "name": "stdout",
     "output_type": "stream",
     "text": [
      "Jane\n",
      "jane.doe@example.com\n",
      "32\n"
     ]
    }
   ],
   "source": [
    "import datetime # this is used for date objects\n",
    "\n",
    "class Person:\n",
    "\n",
    "    def __init__(self, name, surname, birthdate, address, telephone, email):\n",
    "        self.name = name\n",
    "        self.surname = surname\n",
    "        self.birthdate = birthdate\n",
    "\n",
    "        self.address = address\n",
    "        self.telephone = telephone\n",
    "        self.email = email\n",
    "\n",
    "    def age(self):\n",
    "        today = datetime.date.today()\n",
    "        age = today.year - self.birthdate.year\n",
    "\n",
    "        if today < datetime.date(today.year, self.birthdate.month, self.birthdate.day):\n",
    "            age -= 1\n",
    "\n",
    "        return age\n",
    "\n",
    "person = Person(\n",
    "    \"Jane\",\n",
    "    \"Doe\",\n",
    "    datetime.date(1992, 3, 12), # year, month, day\n",
    "    \"No. 12 Short Street, Greenville\",\n",
    "    \"555 456 0987\",\n",
    "    \"jane.doe@example.com\"\n",
    ")\n",
    "\n",
    "print(person.name)\n",
    "print(person.email)\n",
    "print(person.age())"
   ]
  },
  {
   "cell_type": "markdown",
   "metadata": {
    "id": "iPQ7zbOkyHwS"
   },
   "source": [
    "The class definition starts with the `class` keyword, followed by the\n",
    "class name and a colon. Any parent classes would be listed in between\n",
    "round brackets before the colon, but this class doesn't have any, so we\n",
    "can leave this out.\n",
    "\n",
    "Inside the class body, two functions are defined -- these are the object's\n",
    "methods. The first is called `__init__`, which is a special method. When\n",
    "you call the class object, a new instance of the class is created, and\n",
    "the `__init__` method on this new object is immediately executed with\n",
    "all the parameters that were passed to the class object. The purpose of\n",
    "this method is thus to create a new object using the provided data.\n",
    "\n",
    "The second method is a custom method which calculates the age of the\n",
    "person using the birthdate and the current date.\n",
    "\n",
    "*Note.* `__init__` is sometimes called the object's *constructor*, because it is\n",
    "used similarly to the way that constructors are used in other languages,\n",
    "but that is not technically correct -- *initialiser* would be a better name. There is a different method called `__new__` which is\n",
    "more analogous to a constructor, but it is hardly ever used.\n",
    "\n",
    "You may have noticed that both of these method definitions have `self`\n",
    "as the first parameter, and it's used inside the method bodies, but you don't actually pass this parameter to the function. This is because\n",
    "whenever you call a method on an object, the object itself is\n",
    "automatically passed in as the first parameter. This gives you a way to\n",
    "access the object's properties from inside the object's methods.\n",
    "\n",
    "In some languages this parameter is *implicit* -- it is not\n",
    "visible in the function signature -- and you access it with a special\n",
    "keyword. In Python it is explicitly exposed. It doesn't have to be\n",
    "called `self`, but this is a very strongly followed convention.\n",
    "\n",
    "Now you should be able to see that the `__init__` function creates\n",
    "attributes on the object and sets them to the values you pass in\n",
    "as parameters. Here the same names for the attributes and the\n",
    "parameters were used, but this is not compulsory.\n",
    "\n",
    "The `age` function doesn't take any parameters except `self` -- it only\n",
    "uses information stored in the object's attributes, and the current date\n",
    "(which it retrieves using the `datetime` module).\n",
    "\n",
    "*Note.* The `birthdate` attribute is itself an object. The `date`\n",
    "class is defined in the `datetime` module, and you create a new instance\n",
    "of this class to use as the birthdate parameter when you create an\n",
    "instance of the `Person` class. You don't have to assign it to an\n",
    "intermediate variable before using it as a parameter to `Person`; you can\n",
    "simply create it when you call `Person`, just like the string literals for the other parameters.\n",
    "\n",
    "Remember that defining a function doesn't make the function run.\n",
    "Defining a class also doesn't make anything run -- it just tells Python\n",
    "about the class. The class will not be defined until Python has executed\n",
    "the entirety of the definition, so you can be sure that you can\n",
    "reference any method from any other method on the same class, or even\n",
    "reference the class inside a method of the class. By the time you call\n",
    "that method, the entire class will definitely be defined.\n"
   ]
  },
  {
   "cell_type": "markdown",
   "metadata": {
    "id": "dcpIIy5Q56wN"
   },
   "source": [
    "### Example 1\n",
    "\n",
    "Explain what the following variables refer to, and their scope:\n",
    "\n",
    "\n",
    "> 1.  `Person`\n",
    "> 2.  `person`\n",
    "> 3.  `surname`\n",
    "> 4.  `self`\n",
    "> 5.  `age`\n",
    "> 6.  `age`\n",
    "> 7.  `self.email`\n",
    "> 8.  `person.email`"
   ]
  },
  {
   "cell_type": "markdown",
   "metadata": {
    "id": "BNIX5CuhyHwV"
   },
   "source": [
    "## 1.2. Instance attributes\n",
    "\n",
    "It is important to note that the attributes set on the object in the\n",
    "`__init__` function do not form an exhaustive list of all the attributes\n",
    "that the object is ever allowed to have.\n",
    "\n",
    "In some languages you must provide a list of the object's attributes in\n",
    "the class definition, placeholders are created for these allowed\n",
    "attributes when the object is created, and you may not add new\n",
    "attributes to the object later. In Python, you can add new attributes,\n",
    "and even new methods, to an object on the fly. In fact, there is nothing\n",
    "special about the `__init__` function when it comes to setting\n",
    "attributes. You could store a cached age value on the object from inside\n",
    "the `age` function:"
   ]
  },
  {
   "cell_type": "code",
   "execution_count": null,
   "metadata": {
    "id": "SCFc55z3yHwW"
   },
   "outputs": [],
   "source": [
    "def age(self):\n",
    "    if hasattr(self, \"_age\"):\n",
    "        return self._age\n",
    "\n",
    "    today = datetime.date.today()\n",
    "\n",
    "    age = today.year - self.birthdate.year\n",
    "\n",
    "    if today < datetime.date(today.year, self.birthdate.month, self.birthdate.day):\n",
    "        age -= 1\n",
    "\n",
    "    self._age = age\n",
    "    return age"
   ]
  },
  {
   "cell_type": "markdown",
   "metadata": {
    "id": "giBsEXOryHwc"
   },
   "source": [
    "*Note.* Starting an attribute or method name with an underscore (`_`) is a\n",
    "convention which is used to indicate that it is a \"private\" internal\n",
    "property and should not be accessed directly. In a more realistic\n",
    "example, this cached value would sometimes expire and need to be\n",
    "recalculated -- so the orginal `age` method should always be used to make sure\n",
    "the value is correct.\n",
    "\n",
    "\\\n",
    "\n",
    "You can even add a completely unrelated attribute from outside the\n",
    "object:"
   ]
  },
  {
   "cell_type": "code",
   "execution_count": null,
   "metadata": {
    "id": "ebACcPt4yHwd"
   },
   "outputs": [],
   "source": [
    "person.pets = ['cat', 'cat', 'dog']"
   ]
  },
  {
   "cell_type": "markdown",
   "metadata": {
    "id": "BonhqQfCyHwh"
   },
   "source": [
    "It is very common for an object's methods to *update* the values of the\n",
    "object's attributes, but it is considered bad practice to *create* new\n",
    "attributes in a method without initialising them in the `__init__`\n",
    "method. Setting arbitrary properties from outside the object is frowned\n",
    "upon even more, since it breaks the object-oriented paradigm (which will be discussed in the next chapter).\n",
    "\n",
    "The `__init__` method will be executed before anything else\n",
    "when the object is created -- so it's a good place to initialise all of the object's data. If you create a new attribute\n",
    "outside the `__init__` method, you run the risk of trying to use\n",
    "it before it has been initialised.\n",
    "\n",
    "In the `age` example above we need to check if an `_age` attribute\n",
    "exists on the object before trying to use it, because if the `age` method before hasn't been run before, `_age` won't have been created yet. It would be\n",
    "much tidier and better practice if this method was called at least once from `__init__`, to make sure that `_age` is created as soon as the object is created.\n",
    "\n",
    "Initialising all the attributes in `__init__`, even if you just set them\n",
    "to empty values, makes your code less error-prone. It also makes it\n",
    "easier to read and understand -- you can see at a glance what attributes\n",
    "your object has.\n",
    "\n",
    "An `__init__` method doesn't *have* to take any parameters (except `self`)\n",
    "and the method can also be completely absent.\n",
    "\n"
   ]
  },
  {
   "cell_type": "markdown",
   "metadata": {
    "id": "53la2mJZqbKR"
   },
   "source": [
    "### `getattr`, `setattr` and `hasattr`\n",
    "\n",
    "What if you want to get or set the value of an attribute of an object\n",
    "without hard-coding its name? You may want to loop over several\n",
    "attribute names and perform the same operation on all of them, as we do\n",
    "in this example using a dictionary:"
   ]
  },
  {
   "cell_type": "code",
   "execution_count": null,
   "metadata": {
    "collapsed": true,
    "id": "Z5eX5ceoyHwi",
    "jupyter": {
     "outputs_hidden": true
    }
   },
   "outputs": [],
   "source": [
    "for key in [\"a\", \"b\", \"c\"]:\n",
    "    print(mydict[key])"
   ]
  },
  {
   "cell_type": "markdown",
   "metadata": {
    "id": "oj2rVKl8yHwn"
   },
   "source": [
    "How can you do something similar with an object? You can't use the `.`\n",
    "operator, as that must be followed by the attribute name as a bare\n",
    "word. If your attribute name is stored as a string value in a variable,\n",
    "you can use the `getattr` function to retrieve the attribute value\n",
    "from an object:"
   ]
  },
  {
   "cell_type": "code",
   "execution_count": null,
   "metadata": {
    "id": "zSl9xkmZyHwo"
   },
   "outputs": [],
   "source": [
    "for key in [\"a\", \"b\", \"c\"]:\n",
    "    print(getattr(myobject, key, None))"
   ]
  },
  {
   "cell_type": "markdown",
   "metadata": {
    "id": "t1aZ3feyyHwz"
   },
   "source": [
    "`getattr` is a built-in function, not a method on the object, so\n",
    "it takes the object as its first parameter. The second parameter is the\n",
    "name of the variable as a string, and the optional third parameter is\n",
    "the default value to be returned if the attribute does not exist. If you\n",
    "don't specify a default value, `getattr` will raise an exception if the\n",
    "attribute doesn't exist.\n",
    "\n",
    "Similarly, `setattr` allows us to set the value of an attribute. In this\n",
    "example, we copy data from a dictionary to an object:"
   ]
  },
  {
   "cell_type": "code",
   "execution_count": null,
   "metadata": {
    "id": "G0oY3nqByHw0"
   },
   "outputs": [],
   "source": [
    "for key in [\"a\", \"b\", \"c\"]:\n",
    "    setattr(myobject, key, mydict[key])"
   ]
  },
  {
   "cell_type": "markdown",
   "metadata": {
    "id": "nqcgtIOUyHw3"
   },
   "source": [
    "The first parameter of `setattr` is the object, the second is the name\n",
    "of the attribute, and the third is the new value of the attribute.\n",
    "\n",
    "As you saw in the previous `age` function example, `hasattr` detects\n",
    "whether an attribute exists.\n",
    "\n",
    "There's nothing preventing you from using `getattr` on attributes even if\n",
    "the name can be hard-coded, but this is not recommended: it's an\n",
    "unnecessarily verbose and round-about way of accessing attributes:"
   ]
  },
  {
   "cell_type": "code",
   "execution_count": null,
   "metadata": {
    "id": "2Gc0chFtyHw4"
   },
   "outputs": [],
   "source": [
    "getattr(myobject, \"a\")\n",
    "\n",
    "# means the same thing as\n",
    "\n",
    "myobject.a"
   ]
  },
  {
   "cell_type": "markdown",
   "metadata": {
    "id": "6wgDzU-mfiMg"
   },
   "source": [
    "You should only use these functions if you have a good reason to do so."
   ]
  },
  {
   "cell_type": "markdown",
   "metadata": {
    "id": "lKJWhs9kfj4X"
   },
   "source": [
    "### Example 2\n",
    "\n",
    "Rewrite the `Person` class so that a person's age is calculated for\n",
    "    the first time when a new person instance is created, and\n",
    "    recalculated (when it is requested) if the day has changed since the\n",
    "    last time that it was calculated."
   ]
  },
  {
   "cell_type": "markdown",
   "metadata": {
    "id": "aH0jdgsuyHw7"
   },
   "source": [
    "## 1.3. Class Attributes\n",
    "\n",
    "All the attributes which are defined on a `Person` instance are\n",
    "*instance attributes* -- they are added to the instance when the\n",
    "`__init__` method is executed. You can, however, also define attributes\n",
    "which are set on the *class*. These attributes will be shared by all\n",
    "instances of that class. In many ways they behave just like instance\n",
    "attributes, but there are some caveats that you should be aware of.\n",
    "\n",
    "You define class attributes in the body of a class, at the same\n",
    "indentation level as method definitions (one level up from the insides\n",
    "of methods):"
   ]
  },
  {
   "cell_type": "code",
   "execution_count": 1,
   "metadata": {
    "colab": {
     "base_uri": "https://localhost:8080/",
     "height": 332
    },
    "executionInfo": {
     "elapsed": 784,
     "status": "error",
     "timestamp": 1732531663261,
     "user": {
      "displayName": "Avril Rodriguez",
      "userId": "11151376919227169087"
     },
     "user_tz": -60
    },
    "id": "nsIL0K6VyHw8",
    "outputId": "4182cab3-9a5d-41c6-a830-5d4f91c69a0e"
   },
   "outputs": [
    {
     "ename": "NameError",
     "evalue": "name 'TITLES' is not defined",
     "output_type": "error",
     "traceback": [
      "\u001b[0;31m---------------------------------------------------------------------------\u001b[0m",
      "\u001b[0;31mNameError\u001b[0m                                 Traceback (most recent call last)",
      "\u001b[0;32m<ipython-input-1-dc94c0e9b298>\u001b[0m in \u001b[0;36m<cell line: 14>\u001b[0;34m()\u001b[0m\n\u001b[1;32m     12\u001b[0m \u001b[0;34m\u001b[0m\u001b[0m\n\u001b[1;32m     13\u001b[0m \u001b[0;34m\u001b[0m\u001b[0m\n\u001b[0;32m---> 14\u001b[0;31m \u001b[0mperson\u001b[0m \u001b[0;34m=\u001b[0m \u001b[0mPerson\u001b[0m\u001b[0;34m(\u001b[0m\u001b[0;34m\"Mr\"\u001b[0m\u001b[0;34m,\u001b[0m \u001b[0;34m\"John\"\u001b[0m\u001b[0;34m,\u001b[0m \u001b[0;34m\"Doe\"\u001b[0m\u001b[0;34m)\u001b[0m\u001b[0;34m\u001b[0m\u001b[0;34m\u001b[0m\u001b[0m\n\u001b[0m\u001b[1;32m     15\u001b[0m \u001b[0;34m\u001b[0m\u001b[0m\n\u001b[1;32m     16\u001b[0m \u001b[0;31m# you can access class attributes from an instance\u001b[0m\u001b[0;34m\u001b[0m\u001b[0;34m\u001b[0m\u001b[0m\n",
      "\u001b[0;32m<ipython-input-1-dc94c0e9b298>\u001b[0m in \u001b[0;36m__init__\u001b[0;34m(self, title, name, surname)\u001b[0m\n\u001b[1;32m      3\u001b[0m \u001b[0;34m\u001b[0m\u001b[0m\n\u001b[1;32m      4\u001b[0m  \u001b[0;32mdef\u001b[0m \u001b[0m__init__\u001b[0m\u001b[0;34m(\u001b[0m\u001b[0mself\u001b[0m\u001b[0;34m,\u001b[0m \u001b[0mtitle\u001b[0m\u001b[0;34m,\u001b[0m \u001b[0mname\u001b[0m\u001b[0;34m,\u001b[0m \u001b[0msurname\u001b[0m\u001b[0;34m)\u001b[0m\u001b[0;34m:\u001b[0m\u001b[0;34m\u001b[0m\u001b[0;34m\u001b[0m\u001b[0m\n\u001b[0;32m----> 5\u001b[0;31m       \u001b[0;32mif\u001b[0m \u001b[0mtitle\u001b[0m \u001b[0;32mnot\u001b[0m \u001b[0;32min\u001b[0m \u001b[0mTITLES\u001b[0m\u001b[0;34m:\u001b[0m\u001b[0;34m\u001b[0m\u001b[0;34m\u001b[0m\u001b[0m\n\u001b[0m\u001b[1;32m      6\u001b[0m           \u001b[0;32mraise\u001b[0m \u001b[0mValueError\u001b[0m\u001b[0;34m(\u001b[0m\u001b[0;34m\"%s is not a valid title.\"\u001b[0m \u001b[0;34m%\u001b[0m \u001b[0mtitle\u001b[0m\u001b[0;34m)\u001b[0m\u001b[0;34m\u001b[0m\u001b[0;34m\u001b[0m\u001b[0m\n\u001b[1;32m      7\u001b[0m \u001b[0;34m\u001b[0m\u001b[0m\n",
      "\u001b[0;31mNameError\u001b[0m: name 'TITLES' is not defined"
     ]
    }
   ],
   "source": [
    "class Person:\n",
    " TITLES = ('Dr', 'Mr', 'Mrs', 'Ms')\n",
    "\n",
    " def __init__(self, title, name, surname):\n",
    "      if title not in self.TITLES:\n",
    "          raise ValueError(\"%s is not a valid title.\" % title)\n",
    "\n",
    "      self.title = title\n",
    "      self.name = name\n",
    "      self.surname = surname\n",
    "\n",
    "\n",
    "\n",
    "person = Person(\"Mr\", \"John\", \"Doe\")\n",
    "\n",
    "# you can access class attributes from an instance\n",
    "person.TITLES"
   ]
  },
  {
   "cell_type": "markdown",
   "metadata": {
    "id": "1dHWmBJiyHxB"
   },
   "source": [
    "You can access the class attribute `TITLES` just like you\n",
    "would access an instance attribute -- it is made available as a property\n",
    "on the instance object, and inside the method it can be accessed through the `self` variable.\n",
    "\n",
    "All the created `Person` instances will share the same `TITLES` class\n",
    "attribute.\n",
    "\n",
    "Class attributes are often used to define constants which are closely\n",
    "associated with a particular class. However, you can also use class attributes from class objects, without\n",
    "creating an instance:"
   ]
  },
  {
   "cell_type": "code",
   "execution_count": null,
   "metadata": {
    "colab": {
     "base_uri": "https://localhost:8080/"
    },
    "executionInfo": {
     "elapsed": 323,
     "status": "ok",
     "timestamp": 1729700855343,
     "user": {
      "displayName": "Yasmin Kaldenbach",
      "userId": "10121317586432622500"
     },
     "user_tz": 240
    },
    "id": "dLQHcTN4yHxC",
    "outputId": "c328c592-520a-4c60-cd65-d0b006b67102"
   },
   "outputs": [
    {
     "data": {
      "text/plain": [
       "('Dr', 'Mr', 'Mrs', 'Ms')"
      ]
     },
     "execution_count": 20,
     "metadata": {},
     "output_type": "execute_result"
    }
   ],
   "source": [
    "# you can also access class attributes from the class\n",
    "Person.TITLES"
   ]
  },
  {
   "cell_type": "markdown",
   "metadata": {
    "id": "aNAj70h_yHxH"
   },
   "source": [
    "*Note.* The class object doesn't have access to any *instance*\n",
    "attributes -- those are only created when an instance is created! :"
   ]
  },
  {
   "cell_type": "code",
   "execution_count": null,
   "metadata": {
    "id": "I1NLj1uHyHxH"
   },
   "outputs": [],
   "source": [
    "# This will give an error\n",
    "Person.name\n",
    "Person.surname"
   ]
  },
  {
   "cell_type": "markdown",
   "metadata": {
    "id": "zBkd6O3XyHxQ"
   },
   "source": [
    "Class attributes can also sometimes be used to provide default attribute\n",
    "values:"
   ]
  },
  {
   "cell_type": "code",
   "execution_count": null,
   "metadata": {
    "id": "VbYSBF91yHxS"
   },
   "outputs": [],
   "source": [
    "class Person:\n",
    "    deceased = False\n",
    "\n",
    "    def mark_as_deceased(self):\n",
    "        self.deceased = True"
   ]
  },
  {
   "cell_type": "markdown",
   "metadata": {
    "id": "_9Y5mq0uyHxV"
   },
   "source": [
    "When you set an attribute on an instance which has the same name as a\n",
    "class attribute, you're *overriding* the class attribute with an\n",
    "instance attribute, which will take precedence over it. If you create two\n",
    "`Person` instances and call the `mark_as_deceased` method on one of them,\n",
    "it will not affect the other one. You should, however, be careful when a\n",
    "class attribute is of a mutable type -- because if you modify it\n",
    "in-place, it *will* affect all objects of that class at the same time.\n",
    "Remember that all instances share the same class attributes:"
   ]
  },
  {
   "cell_type": "code",
   "execution_count": null,
   "metadata": {
    "colab": {
     "base_uri": "https://localhost:8080/"
    },
    "executionInfo": {
     "elapsed": 418,
     "status": "ok",
     "timestamp": 1729703848509,
     "user": {
      "displayName": "Yasmin Kaldenbach",
      "userId": "10121317586432622500"
     },
     "user_tz": 240
    },
    "id": "z821vBZqyHxV",
    "outputId": "82ae235d-05d6-49eb-88f3-adb3f207ea2a"
   },
   "outputs": [
    {
     "name": "stdout",
     "output_type": "stream",
     "text": [
      "['cat']\n",
      "['cat']\n"
     ]
    }
   ],
   "source": [
    "class Person:\n",
    "    pets = []\n",
    "\n",
    "    def add_pet(self, pet):\n",
    "        self.pets.append(pet)\n",
    "\n",
    "jane = Person()\n",
    "bob = Person()\n",
    "\n",
    "jane.add_pet(\"cat\")\n",
    "print(jane.pets)\n",
    "print(bob.pets) # oops!"
   ]
  },
  {
   "cell_type": "markdown",
   "metadata": {
    "id": "VP0PWxy9yHxY"
   },
   "source": [
    "What you *should* do in cases like this is initialise the mutable\n",
    "attribute *as an instance attribute*, inside `__init__`. Then every\n",
    "instance will have its own separate copy:"
   ]
  },
  {
   "cell_type": "code",
   "execution_count": null,
   "metadata": {
    "colab": {
     "base_uri": "https://localhost:8080/"
    },
    "executionInfo": {
     "elapsed": 289,
     "status": "ok",
     "timestamp": 1729703905393,
     "user": {
      "displayName": "Yasmin Kaldenbach",
      "userId": "10121317586432622500"
     },
     "user_tz": 240
    },
    "id": "lZQUhC6cyHxZ",
    "outputId": "c750cd89-bc7a-4f8b-ca34-4e9ff6437f35"
   },
   "outputs": [
    {
     "name": "stdout",
     "output_type": "stream",
     "text": [
      "['cat']\n",
      "[]\n"
     ]
    }
   ],
   "source": [
    "class Person:\n",
    "\n",
    "    def __init__(self):\n",
    "        self.pets = []\n",
    "\n",
    "    def add_pet(self, pet):\n",
    "        self.pets.append(pet)\n",
    "\n",
    "jane = Person()\n",
    "bob = Person()\n",
    "\n",
    "jane.add_pet(\"cat\")\n",
    "print(jane.pets)\n",
    "print(bob.pets)"
   ]
  },
  {
   "cell_type": "markdown",
   "metadata": {
    "id": "jY1nOgEHyHxb"
   },
   "source": [
    "*Note.* Method definitions are in the same scope as class attribute\n",
    "definitions, so you can use class attribute names as variables in method\n",
    "definitions (without `self`, which is only defined *inside* the\n",
    "methods):"
   ]
  },
  {
   "cell_type": "code",
   "execution_count": null,
   "metadata": {
    "id": "TAVkRxL7yHxc"
   },
   "outputs": [],
   "source": [
    "class Person:\n",
    "    TITLES = ('Dr', 'Mr', 'Mrs', 'Ms')\n",
    "\n",
    "    def __init__(self, title, name, surname, allowed_titles=TITLES):\n",
    "        if title not in allowed_titles:\n",
    "            raise ValueError(\"%s is not a valid title.\" % title)\n",
    "\n",
    "        self.title = title\n",
    "        self.name = name\n",
    "        self.surname = surname"
   ]
  },
  {
   "cell_type": "markdown",
   "metadata": {
    "id": "0UuhanqeyHxg"
   },
   "source": [
    "Can you also have class *methods*? Yes, you can. In the next section we will\n",
    "see how to define them using a decorator.\n",
    "\n",
    "### Example 3\n",
    "\n",
    "Explain the differences between the attributes `name`, `surname` and\n",
    "    `profession`, and what values they can have in different instances\n",
    "    of this class:"
   ]
  },
  {
   "cell_type": "code",
   "execution_count": null,
   "metadata": {
    "id": "8WFSGp7eyHxg"
   },
   "outputs": [],
   "source": [
    "    class Smith:\n",
    "        surname = \"Smith\"\n",
    "        profession = \"smith\"\n",
    "\n",
    "        def __init__(self, name, profession=None):\n",
    "            self.name = name\n",
    "            if profession is not None:\n",
    "                self.profession = profession"
   ]
  },
  {
   "cell_type": "markdown",
   "metadata": {
    "id": "NzeoVbljyHx_"
   },
   "source": [
    "## 1.4. Overriding Methods\n",
    "\n",
    "You have already seen how to overload the `__init__` method to customise it to initialise your class. You can also overload other\n",
    "built-in methods. For example, the purpose of the `__str__` method is to\n",
    "output a useful string representation of the object. However by default if\n",
    "you use the `str` function on a person object (which will call the\n",
    "`__str__` method), you only get the class name and an ID.\n",
    "That's not very useful! Let's write a custom `__str__` method which\n",
    "shows the values of all of the object's properties:"
   ]
  },
  {
   "cell_type": "code",
   "execution_count": null,
   "metadata": {
    "colab": {
     "base_uri": "https://localhost:8080/"
    },
    "id": "FAw_o1F8yHyA",
    "outputId": "b9eab019-6521-4a77-9303-5ac3b11e6a60"
   },
   "outputs": [
    {
     "name": "stdout",
     "output_type": "stream",
     "text": [
      "Jane Doe, born 1992-03-12\n",
      "Address: No. 12 Short Street, Greenville\n",
      "Telephone: 555 456 0987\n",
      "Email:jane.doe@example.com\n"
     ]
    }
   ],
   "source": [
    "import datetime\n",
    "\n",
    "class Person:\n",
    "    def __init__(self, name, surname, birthdate, address, telephone, email):\n",
    "        self.name = name\n",
    "        self.surname = surname\n",
    "        self.birthdate = birthdate\n",
    "\n",
    "        self.address = address\n",
    "        self.telephone = telephone\n",
    "        self.email = email\n",
    "\n",
    "    def __str__(self):\n",
    "        return \"%s %s, born %s\\nAddress: %s\\nTelephone: %s\\nEmail:%s\" % (self.name, self.surname, self.birthdate, self.address, self.telephone, self.email)\n",
    "\n",
    "jane = Person(\n",
    "    \"Jane\",\n",
    "    \"Doe\",\n",
    "    datetime.date(1992, 3, 12), # year, month, day\n",
    "    \"No. 12 Short Street, Greenville\",\n",
    "    \"555 456 0987\",\n",
    "    \"jane.doe@example.com\"\n",
    ")\n",
    "\n",
    "print(jane)"
   ]
  },
  {
   "cell_type": "markdown",
   "metadata": {
    "id": "R9pibFy4yHyE"
   },
   "source": [
    "*Note.* When you insert the birthdate object into the output string\n",
    "with `%s` it will automatically be converted to a string, so you don't need to\n",
    "do it yourself (unless you want to change the format).\n",
    "\n",
    "It is also often useful to overload the comparison methods, so that you\n",
    "can use comparison operators on your own objects. By default, the\n",
    "`Person` objects are only equal if it's the same object, and you can't\n",
    "test whether one person object is larger than another because `Person`\n",
    "objects have no default order.\n",
    "\n",
    "Suppose that you want your `Person` objects to be equal if all their\n",
    "attributes have the same values, and to be able to order them\n",
    "alphabetically, first by surname and then by first name. All of the comparison methods are independent of each other, so you will need to\n",
    "overload all of them *if* you want all of them to work -- but fortunately\n",
    "once equality and one of the basic order methods are defined the\n",
    "rest are easy. Each of these methods take two parameters --\n",
    "`self` for the current object, and `other` for the other object:"
   ]
  },
  {
   "cell_type": "code",
   "execution_count": null,
   "metadata": {
    "id": "G-XlGcJMyHyE"
   },
   "outputs": [],
   "source": [
    "class Person:\n",
    "    def __init__(self, name, surname):\n",
    "        self.name = name\n",
    "        self.surname = surname\n",
    "\n",
    "    def __eq__(self, other): # does self == other?\n",
    "        return self.name == other.name and self.surname == other.surname\n",
    "\n",
    "    def __gt__(self, other): # is self > other?\n",
    "        if self.surname == other.surname:\n",
    "            return self.name > other.name\n",
    "        return self.surname > other.surname\n",
    "\n",
    "    # now we can define all the other methods in terms of the first two\n",
    "\n",
    "    def __ne__(self, other): # does self != other?\n",
    "        return not self == other # this calls self.__eq__(other)\n",
    "\n",
    "    def __le__(self, other): # is self <= other?\n",
    "        return not self > other # this calls self.__gt__(other)\n",
    "\n",
    "    def __lt__(self, other): # is self < other?\n",
    "        return not (self > other or self == other)\n",
    "\n",
    "    def __ge__(self, other): # is self >= other?\n",
    "        return not self < other"
   ]
  },
  {
   "cell_type": "markdown",
   "metadata": {
    "id": "5i8u1B3ifzpY"
   },
   "source": [
    "*Note.* `other` is not guaranteed to be a `Person` object, and we\n",
    "haven't included any checks to make sure. The methods will only work if the `other` object has both a `name` and `surname` attribute, otherwise it will crash. Whether that makes sense or\n",
    "not is something that you will need to think about if you create objects yourself. Sometimes it makes sense to exit with an error if the other object is of a different type, but sometimes you can compare two compatible objects even if they are not of the same type. For example,\n",
    "it makes sense to compare `1` and `2.5` because they are both numbers,\n",
    "even though one is an integer and the other is a float.\n",
    "\n",
    "\\\n",
    "\n",
    "*Note.* Python 2 also has a `__cmp__` method which was introduced to the\n",
    "language before the individual comparison methods (called *rich\n",
    "comparisons*) described above. It is used if the rich comparisons are\n",
    "not defined. If you use Python 2, you should overload it in a way which is consistent with\n",
    "the rich comparison methods, otherwise you may encounter strange behaviour."
   ]
  },
  {
   "cell_type": "markdown",
   "metadata": {
    "id": "760St19_f1wn"
   },
   "source": [
    "### Example 4\n",
    "\n",
    "Write a class for creating completely generic objects: its\n",
    "    `__init__` function should accept any number of keyword parameters,\n",
    "    and set them on the object as attributes with the keys as names.\n",
    "    Write a `__str__` method for the class -- the string it returns\n",
    "    should include the name of the class and the values of all the\n",
    "    object's custom instance attributes."
   ]
  },
  {
   "cell_type": "markdown",
   "metadata": {
    "id": "HrwdzOB_yHxk"
   },
   "source": [
    "## 1.5. Class Decorators\n",
    "\n",
    "In the previous chapter you learned about decorators -- functions which\n",
    "are used to modify the behaviour of other functions. There are some\n",
    "built-in decorators which are often used in class definitions."
   ]
  },
  {
   "cell_type": "markdown",
   "metadata": {
    "id": "wonnN46jnPw4"
   },
   "source": [
    "### `@classmethod`\n",
    "\n",
    "Just like you can define class *attributes*, which are shared between all instances of a class, you can define class *methods*. You do this by using\n",
    "the `@classmethod` decorator to decorate an ordinary method.\n",
    "\n",
    "A class method still has its calling object as the first parameter, but\n",
    "by convention we rename this parameter from `self` to `cls`. If you call the class method from an instance, this parameter will contain the instance object, but if you call it from the class it will contain the\n",
    "class object. By calling the parameter \"`cls`\" we remind ourselves that it\n",
    "is not guaranteed to have any *instance* attributes.\n",
    "\n",
    "What are class methods good for? Sometimes there are tasks associated\n",
    "with a class which can be performed using constants and other class\n",
    "attributes, without needing to create any class instances. If you need to use instance methods for these tasks, you would need to create an instance for no reason, which would be wasteful. Sometimes classes are written purely to group related constants together with functions which\n",
    "act on them -- you might never instantiate these classes at all.\n",
    "\n",
    "Sometimes it's useful to write a class method which creates an instance\n",
    "of the class after processing the input so that it is in the right\n",
    "format to be passed to the class constructor. This allows the\n",
    "constructor to be straightforward and not have to implement any\n",
    "complicated parsing or clean-up code:"
   ]
  },
  {
   "cell_type": "code",
   "execution_count": null,
   "metadata": {
    "id": "KxVUAX7NyHxk"
   },
   "outputs": [],
   "source": [
    "class Person:\n",
    "\n",
    "    def __init__(self, name, surname, birthdate, address, telephone, email):\n",
    "        self.name = name\n",
    "        # (...)\n",
    "\n",
    "    @classmethod\n",
    "    def from_text_file(cls, filename):\n",
    "        # extract all the parameters from the text file\n",
    "        return cls(*params) # this is the same as calling Person(*params)"
   ]
  },
  {
   "cell_type": "markdown",
   "metadata": {
    "id": "57FZEi1UyHxn"
   },
   "source": [
    "### `@staticmethod`\n",
    "\n",
    "A static method doesn't have the calling object passed into it as the\n",
    "first parameter. This means that it doesn't have access to the rest of\n",
    "the class or instance at all. You can call them from an instance or a\n",
    "class object, but they are most commonly called from class objects, like\n",
    "class methods.\n",
    "\n",
    "If you are using a class to group together related methods which don't\n",
    "need to access each other or any other data on the class, you may want to\n",
    "use this technique. The advantage of using static methods is that you\n",
    "eliminate unnecessary `cls` or `self` parameters from method\n",
    "definitions. The disadvantage is that if you do occasionally want to\n",
    "refer to another class method or attribute inside a static method you\n",
    "have to write the class name out in full, which can be much more verbose\n",
    "than using the `cls` variable which is available inside a class\n",
    "method.\n",
    "\n",
    "Here is a brief example comparing the three method types:"
   ]
  },
  {
   "cell_type": "code",
   "execution_count": null,
   "metadata": {
    "colab": {
     "base_uri": "https://localhost:8080/"
    },
    "id": "N6mPM3PEyHxo",
    "outputId": "ba74f2d4-98fa-42da-e704-bd106b426653"
   },
   "outputs": [
    {
     "name": "stdout",
     "output_type": "stream",
     "text": [
      "Jane Smith\n",
      "['Mr', 'Mrs', 'Ms']\n",
      "['Mr', 'Mrs', 'Ms']\n",
      "['Mrs', 'Ms']\n",
      "['Mrs', 'Ms']\n"
     ]
    }
   ],
   "source": [
    "class Person:\n",
    "    TITLES = ('Dr', 'Mr', 'Mrs', 'Ms')\n",
    "\n",
    "    def __init__(self, name, surname):\n",
    "        self.name = name\n",
    "        self.surname = surname\n",
    "\n",
    "    def fullname(self): # instance method\n",
    "        # instance object accessible through self\n",
    "        return \"%s %s\" % (self.name, self.surname)\n",
    "\n",
    "    @classmethod\n",
    "    def allowed_titles_starting_with(cls, startswith): # class method\n",
    "        # class or instance object accessible through cls\n",
    "        return [t for t in cls.TITLES if t.startswith(startswith)]\n",
    "\n",
    "    @staticmethod\n",
    "    def allowed_titles_ending_with(endswith): # static method\n",
    "        # no parameter for class or instance object\n",
    "        # you have to use Person directly\n",
    "        return [t for t in Person.TITLES if t.endswith(endswith)]\n",
    "\n",
    "\n",
    "jane = Person(\"Jane\", \"Smith\")\n",
    "\n",
    "print(jane.fullname())\n",
    "\n",
    "print(jane.allowed_titles_starting_with(\"M\"))\n",
    "print(Person.allowed_titles_starting_with(\"M\"))\n",
    "\n",
    "print(jane.allowed_titles_ending_with(\"s\"))\n",
    "print(Person.allowed_titles_ending_with(\"s\"))"
   ]
  },
  {
   "cell_type": "markdown",
   "metadata": {
    "id": "5rqMojtEyHxq"
   },
   "source": [
    "### `@property`\n",
    "\n",
    "You can also use a method to generate a property of an object\n",
    "dynamically, calculating it from the object's other properties.\n",
    "In this case, you can simply use a method to access a single attribute and\n",
    "return it. You can also use a different method to update the value of\n",
    "the attribute instead of accessing it directly. Methods like this are\n",
    "called *getters* and *setters*, because they \"get\" and \"set\" the values\n",
    "of attributes, respectively.\n",
    "\n",
    "In some languages you are encouraged to use getters and setters for all\n",
    "attributes, and never to access their values directly -- and there are\n",
    "language features which can make attributes inaccessible except through\n",
    "setters and getters. In Python, accessing simple attributes directly is\n",
    "perfectly acceptable, and writing getters and setters for all of them is\n",
    "considered unnecessarily verbose. Setters can be inconvenient because\n",
    "they don't allow use of compound assignment operators:"
   ]
  },
  {
   "cell_type": "code",
   "execution_count": null,
   "metadata": {
    "id": "6yC2-bOlyHxr"
   },
   "outputs": [],
   "source": [
    "class Person:\n",
    "    def __init__(self, height):\n",
    "        self.height = height\n",
    "\n",
    "    def get_height(self):\n",
    "        return self.height\n",
    "\n",
    "    def set_height(self, height):\n",
    "        self.height = height\n",
    "\n",
    "jane = Person(153) # Jane is 153cm tall\n",
    "\n",
    "jane.height += 1 # Jane grows by a centimetre\n",
    "jane.set_height(jane.height + 1) # Jane grows again"
   ]
  },
  {
   "cell_type": "markdown",
   "metadata": {
    "id": "zOhGMgmsyHxv"
   },
   "source": [
    "As you can see, incrementing the height attribute through a setter is\n",
    "much more verbose. Of course you could write a *second* setter which\n",
    "increments the height by the given parameter -- but you would have to\n",
    "do something similar for every attribute and every kind of modification\n",
    "that you want to perform. You would have a similar issue with in-place\n",
    "modifications, like adding values to lists.\n",
    "\n",
    "Something which is often considered an *advantage* of setters and\n",
    "getters is that you can change the way that an attribute is generated\n",
    "inside the object without affecting any code that uses the object. For\n",
    "example, suppose that you initially created a `Person` class which has a\n",
    "`fullname` attribute, but later you want to change the class to have\n",
    "separate `name` and `surname` attributes which you combine to create a\n",
    "full name. If you always access the `fullname` attribute through a\n",
    "setter, you can simply rewrite the setter -- none of the code which calls\n",
    "the setter will have to be changed.\n",
    "\n",
    "But what if your code accesses the `fullname` attribute directly? We can\n",
    "write a `fullname` method which returns the right value, but a method\n",
    "has to be *called*. Fortunately, the `@property` decorator lets us make\n",
    "a method behave like an attribute:"
   ]
  },
  {
   "cell_type": "code",
   "execution_count": null,
   "metadata": {
    "id": "xYXkTj_UyHxw"
   },
   "outputs": [],
   "source": [
    "class Person:\n",
    "    def __init__(self, name, surname):\n",
    "        self.name = name\n",
    "        self.surname = surname\n",
    "\n",
    "    @property\n",
    "    def fullname(self):\n",
    "        return \"%s %s\" % (self.name, self.surname)\n",
    "\n",
    "jane = Person(\"Jane\", \"Smith\")\n",
    "print(jane.fullname) # no brackets!"
   ]
  },
  {
   "cell_type": "markdown",
   "metadata": {
    "id": "YKE_ox99yHx0"
   },
   "source": [
    "There are also decorators which you can use to define a setter and a\n",
    "deleter for your attribute (a deleter will delete the attribute from the\n",
    "instance). The getter, setter and deleter methods must all have the same\n",
    "name:"
   ]
  },
  {
   "cell_type": "code",
   "execution_count": null,
   "metadata": {
    "colab": {
     "base_uri": "https://localhost:8080/"
    },
    "executionInfo": {
     "elapsed": 311,
     "status": "ok",
     "timestamp": 1729709780213,
     "user": {
      "displayName": "Yasmin Kaldenbach",
      "userId": "10121317586432622500"
     },
     "user_tz": 240
    },
    "id": "2TLKEOViyHx0",
    "outputId": "8b613a12-a5b2-4935-c272-013f0aa78ca1"
   },
   "outputs": [
    {
     "name": "stdout",
     "output_type": "stream",
     "text": [
      "Jane Smith\n",
      "Jane Doe\n",
      "Jane\n",
      "Doe\n"
     ]
    }
   ],
   "source": [
    "class Person:\n",
    "    def __init__(self, name, surname):\n",
    "        self.name = name\n",
    "        self.surname = surname\n",
    "\n",
    "    @property\n",
    "    def fullname(self):\n",
    "        return \"%s %s\" % (self.name, self.surname)\n",
    "\n",
    "    @fullname.setter\n",
    "    def fullname(self, value):\n",
    "        # this is much more complicated in real life\n",
    "        name, surname = value.split(\" \", 1)\n",
    "        self.name = name\n",
    "        self.surname = surname\n",
    "\n",
    "    @fullname.deleter\n",
    "    def fullname(self):\n",
    "        del self.name\n",
    "        del self.surname\n",
    "\n",
    "jane = Person(\"Jane\", \"Smith\")\n",
    "print(jane.fullname)\n",
    "\n",
    "jane.fullname = \"Jane Doe\"\n",
    "print(jane.fullname)\n",
    "print(jane.name)\n",
    "print(jane.surname)"
   ]
  },
  {
   "cell_type": "markdown",
   "metadata": {
    "id": "BT5sP_B-yHx4"
   },
   "source": [
    "### Example 5\n",
    "\n",
    "Create a class called `Numbers`, which has a single class attribute\n",
    "    called `MULTIPLIER`, and a constructor which takes the parameters\n",
    "    `x` and `y` (these should all be numbers).\n",
    "  \n",
    "> 1.  Write a method called `add` which returns the sum of the attributes `x` and `y`.\n",
    "> 2.  Write a class method called `multiply`, which takes a single\n",
    ">     number parameter `a` and returns the product of `a` and\n",
    ">     `MULTIPLIER`.\n",
    "> 3.  Write a static method called `subtract`, which takes two\n",
    ">     number parameters, `b` and `c`, and returns `b` - `c`.\n",
    "> 4.  Write a method called `value` which returns a tuple containing\n",
    ">     the values of `x` and `y`. Make this method into a property,\n",
    ">     and write a setter and a deleter for manipulating the values\n",
    ">     of `x` and `y`."
   ]
  },
  {
   "cell_type": "markdown",
   "metadata": {
    "id": "hkfepmgqyHx5"
   },
   "source": [
    "## 1.6. Inspecting an Object\n",
    "\n",
    "You can check what properties are defined on an object using the `dir`\n",
    "function:"
   ]
  },
  {
   "cell_type": "code",
   "execution_count": null,
   "metadata": {
    "colab": {
     "base_uri": "https://localhost:8080/"
    },
    "executionInfo": {
     "elapsed": 721,
     "status": "ok",
     "timestamp": 1729711775884,
     "user": {
      "displayName": "Yasmin Kaldenbach",
      "userId": "10121317586432622500"
     },
     "user_tz": 240
    },
    "id": "Npw6Ezx2yHx6",
    "outputId": "284d152f-c107-47a3-c4ad-424ec9085d4a"
   },
   "outputs": [
    {
     "name": "stdout",
     "output_type": "stream",
     "text": [
      "['__class__', '__delattr__', '__dict__', '__dir__', '__doc__', '__eq__', '__format__', '__ge__', '__getattribute__', '__gt__', '__hash__', '__init__', '__init_subclass__', '__le__', '__lt__', '__module__', '__ne__', '__new__', '__reduce__', '__reduce_ex__', '__repr__', '__setattr__', '__sizeof__', '__str__', '__subclasshook__', '__weakref__', 'fullname', 'name', 'surname']\n"
     ]
    }
   ],
   "source": [
    "class Person:\n",
    "    def __init__(self, name, surname):\n",
    "        self.name = name\n",
    "        self.surname = surname\n",
    "\n",
    "    def fullname(self):\n",
    "        return \"%s %s\" % (self.name, self.surname)\n",
    "\n",
    "jane = Person(\"Jane\", \"Smith\")\n",
    "\n",
    "print(dir(jane))"
   ]
  },
  {
   "cell_type": "markdown",
   "metadata": {
    "id": "sGJzQjguyHx-"
   },
   "source": [
    "We can see our attributes and our method -- but what's all that\n",
    "other stuff? We will discuss *inheritance* in the next chapter, but for\n",
    "now all you need to know is that any class that you define has `object`\n",
    "as its parent class even if you don't explicitly say so -- so your class\n",
    "will have a lot of default attributes and methods that any Python object\n",
    "has.\n",
    "\n",
    "*Note.* in Python 2 you have to inherit from `object` explicitly, otherwise your\n",
    "class will be almost completely empty except for your own custom\n",
    "properties. Classes which don't inherit from `object` are called\n",
    "\"old-style classes\", and using them is not recommended. If you were to\n",
    "write the `Person` class in Python 2 you would write the first line as\n",
    "`class Person(object):`.\n",
    "\n",
    "This is why you can just leave out the `__init__` method out of your\n",
    "class if you don't have any initialisation to do -- the default that you\n",
    "inherited from `object` (which does nothing) will be used instead. If\n",
    "you do write your own `__init__` method, it will *override* the default\n",
    "method.\n",
    "\n",
    "Many default methods and attributes that are found in built-in Python\n",
    "objects have names which begin and end in double underscores, like\n",
    "`__init__` or `__str__`. These names indicate that these properties have\n",
    "a special meaning -- you shouldn't create your own methods or attributes\n",
    "with the same names unless you mean to overload them. These properties\n",
    "are usually methods, and they are sometimes called *magic methods*."
   ]
  },
  {
   "cell_type": "markdown",
   "metadata": {
    "id": "3dkXy8he6rNB"
   },
   "source": [
    "### Special build-in magic methods for classes\n",
    "\n",
    "Here are some examples of special object properties:\n",
    "\n",
    "-   `__init__` : the initialisation method of an object, which is called\n",
    "    when the object is created.\n",
    "-   `__str__` : the string representation method of an object, which is\n",
    "    called when you use the `str` function to convert that object to a\n",
    "    string.\n",
    "-   `__class__` : an attribute which stores the class (or type) of\n",
    "    an object -- this is what is returned when you use the `type`\n",
    "    function on the object.\n",
    "-   `__eq__` : a method which determines whether this object is equal to\n",
    "    another. There are also other methods for determining if it's not\n",
    "    equal, less than, etc.. These methods are used in object\n",
    "    comparisons, for example when you use the equality operator `==` to\n",
    "    check if two objects are equal.\n",
    "-   `__add__` is a method which allows this object to be added to\n",
    "    another object, it is called when the addition operator (`+`) is used. There are equivalent methods for all the other\n",
    "    arithmetic operators. Not all objects support all arithmetic\n",
    "    operations -- for numbers all of these methods are defined, but other\n",
    "    objects may only have a subset.\n",
    "-   `__iter__` : a method which returns an iterator over the object --\n",
    "    you will find it on strings, lists and other iterables. It is\n",
    "    executed when you use the `iter` function on the object.\n",
    "-   `__len__` : a method which calculates the length of an object -- you\n",
    "    will find it on sequences. It is executed when you use the `len`\n",
    "    function of an object.\n",
    "-   `__dict__` : a dictionary which contains all the instance attributes\n",
    "    of an object, with their names as keys. It can be useful if you want\n",
    "    to iterate over all the attributes of an instance. `__dict__` does not\n",
    "    include any methods, class attributes or special default attributes\n",
    "    like `__class__`.\n",
    "\n",
    "You can use `dir` on any object. You can try to use it on all kinds of\n",
    "objects which you have already seen before, like numbers, lists, strings\n",
    "and functions, to see what built-in properties these objects have in\n",
    "common."
   ]
  },
  {
   "cell_type": "markdown",
   "metadata": {
    "id": "GFd01Sbe5OhA"
   },
   "source": [
    "### Example 6\n",
    "\n",
    "Create an instance of the `Person` class from example 2. Use the `dir` function on the instance. Then use the `dir` function on the  class.\n",
    "\n",
    "\n",
    "> 1.  What happens if you call the `__str__` method on the instance? Verify that you get the same result if you call the `str` function with the instance as a parameter.\n",
    "> 2.  What is the type of the instance?\n",
    "> 3.  What is the type of the class?\n",
    "> 4.  Write a function which prints out the names and values of all the custom attributes of any object that is passed in as a parameter."
   ]
  },
  {
   "cell_type": "markdown",
   "metadata": {
    "id": "FHWSlMCzyHyH"
   },
   "source": [
    "## Answers to Examples"
   ]
  },
  {
   "cell_type": "markdown",
   "metadata": {
    "id": "E4PuZfoM5WyL"
   },
   "source": [
    "### Answer to Example 1\n",
    "\n",
    "\n",
    "> 1.  `Person` is a class defined in the global scope.\n",
    "> 2.  `person` is an instance of the `Person` class. It is also a global\n",
    ">     variable.\n",
    "> 3.  `surname` is a parameter passed into the `__init__` method -- it\n",
    ">     is a local variable in the scope of the `__init__` method.\n",
    "> 4.  `self` is a parameter passed into each instance method of the\n",
    ">     class -- it will be replaced by the instance object when the\n",
    ">     method is called on the object with the `.` operator. It is a new\n",
    ">     local variable inside the scope of each of the methods -- it just\n",
    ">     always has the same value, and by convention it is always given\n",
    ">     the same name to reflect this.\n",
    "> 5.  `age` is a locally defined method of the `Person` class.\n",
    "> 6.  `age` (the variable used inside the function) is a local variable\n",
    ">     inside the scope of the `age` method.\n",
    "> 7.  `self.email` is not really a separate variable. It's an example of\n",
    ">     referring to attributes and methods of an object using a\n",
    ">     variable which refers to the object (in this case `self`), the `.` operator and the name\n",
    ">     of the attribute or method. We use the `self` variable to refer to\n",
    ">     an object inside one of the object's own methods -- wherever the\n",
    ">     variable `self` is defined, we can use `self.email`, `self.age()`,\n",
    ">     etc..\n",
    "> 8.  `person.email` is another example of the same thing. In the global\n",
    ">     scope, your person instance is referred to by the variable name\n",
    ">     `person`. Wherever `person` is defined, we can use `person.email`,\n",
    ">     `person.age()`, etc.."
   ]
  },
  {
   "cell_type": "markdown",
   "metadata": {
    "id": "7XPJKN7v5X4L"
   },
   "source": [
    "### Answer to Example 2\n",
    "\n",
    "Here is an example program:"
   ]
  },
  {
   "cell_type": "code",
   "execution_count": null,
   "metadata": {
    "id": "HHP5EPwsyHyI"
   },
   "outputs": [],
   "source": [
    "    import datetime\n",
    "\n",
    "    class Person:\n",
    "\n",
    "        def __init__(self, name, surname, birthdate, address, telephone, email):\n",
    "            self.name = name\n",
    "            self.surname = surname\n",
    "            self.birthdate = birthdate\n",
    "\n",
    "            self.address = address\n",
    "            self.telephone = telephone\n",
    "            self.email = email\n",
    "\n",
    "            # This isn't strictly necessary, but it clearly introduces these attributes\n",
    "            self._age = None\n",
    "            self._age_last_recalculated = None\n",
    "\n",
    "            self._recalculate_age()\n",
    "\n",
    "        def _recalculate_age(self):\n",
    "            today = datetime.date.today()\n",
    "            age = today.year - self.birthdate.year\n",
    "\n",
    "            if today < datetime.date(today.year, self.birthdate.month, self.birthdate.day):\n",
    "                age -= 1\n",
    "\n",
    "            self._age = age\n",
    "            self._age_last_recalculated = today\n",
    "\n",
    "        def age(self):\n",
    "            if (datetime.date.today() > self._age_last_recalculated):\n",
    "                self._recalculate_age()\n",
    "\n",
    "            return self._age"
   ]
  },
  {
   "cell_type": "markdown",
   "metadata": {
    "id": "FkggdWgZyHyK"
   },
   "source": [
    "### Answer to Example 3\n",
    "\n",
    "`name` is always an instance attribute which is set in the\n",
    "    constructor, and each class instance can have a different name\n",
    "    value. `surname` is always a class attribute, and cannot be\n",
    "    overridden in the constructor -- every instance will have a surname\n",
    "    value of `Smith`. `profession` is a class attribute, but it can\n",
    "    optionally be overridden by an instance attribute in the\n",
    "    constructor. Each instance will have a profession value of `smith`\n",
    "    unless the optional `surname` parameter is passed into the\n",
    "    constructor with a different value."
   ]
  },
  {
   "cell_type": "markdown",
   "metadata": {
    "id": "ncTSDu_15kv9"
   },
   "source": [
    "### Answer to Example 4\n",
    "\n",
    "Here is an example program:"
   ]
  },
  {
   "cell_type": "code",
   "execution_count": null,
   "metadata": {
    "id": "GfrQSrIGlkZd"
   },
   "outputs": [],
   "source": [
    "    class AnyClass:\n",
    "        def __init__(self, **kwargs):\n",
    "            for k, v in kwargs.items():\n",
    "                setattr(self, k, v)\n",
    "\n",
    "        def __str__(self):\n",
    "            attrs = [\"%s=%s\" % (k, v) for (k, v) in self.__dict__.items()]\n",
    "            classname = self.__class__.__name__\n",
    "            return \"%s: %s\" % (classname, \" \".join(attrs))"
   ]
  },
  {
   "cell_type": "markdown",
   "metadata": {
    "id": "YqZ2TFFul2gf"
   },
   "source": [
    "### Answer to Example 5\n",
    "\n",
    "Here is an example program:"
   ]
  },
  {
   "cell_type": "code",
   "execution_count": null,
   "metadata": {
    "id": "A2shb3OwyHyL"
   },
   "outputs": [],
   "source": [
    "    class Numbers:\n",
    "        MULTIPLIER = 3.5\n",
    "\n",
    "        def __init__(self, x, y):\n",
    "            self.x = x\n",
    "            self.y = y\n",
    "\n",
    "        def add(self):\n",
    "            return self.x + self.y\n",
    "\n",
    "        @classmethod\n",
    "        def multiply(cls, a):\n",
    "            return cls.MULTIPLIER * a\n",
    "\n",
    "        @staticmethod\n",
    "        def subtract(b, c):\n",
    "            return b - c\n",
    "\n",
    "        @property\n",
    "        def value(self):\n",
    "            return (self.x, self.y)\n",
    "\n",
    "        @value.setter\n",
    "        def value(self, xy_tuple):\n",
    "            self.x, self.y = xy_tuple\n",
    "\n",
    "        @value.deleter\n",
    "        def value(self):\n",
    "            del self.x\n",
    "            del self.y"
   ]
  },
  {
   "cell_type": "markdown",
   "metadata": {
    "id": "kybE5zPsyHyN"
   },
   "source": [
    "### Answer to Example 6\n",
    "\n",
    "> 1.  You should see something like\n",
    ">     `'<__main__.Person object at 0x7fcb233301d0>'`.\n",
    ">\n",
    "> 2.  `<class '__main__.Person'>` -- `__main__` is Python's name for the\n",
    ">     program you are executing.\n",
    ">\n",
    "> 3.  `<class 'type'>` -- any class has the type `type`.\n",
    ">\n",
    "> 4.  Here is an example program:\n",
    ">\n",
    ">     ```{.python .input}\n",
    ">     def print_object_attrs(any_object):\n",
    ">         for k, v in any_object.__dict__.items():\n",
    ">             print(\"%s: %s\" % (k, v))\n",
    ">     ```\n"
   ]
  },
  {
   "cell_type": "markdown",
   "metadata": {
    "id": "Q3wgOA1BeMYR"
   },
   "source": [
    "© Copyright 2013, 2014, Confluence (https://github.com/confluence) and individual contributors. This work is released under the CC BY-SA 4.0 licence."
   ]
  }
 ],
 "metadata": {
  "colab": {
   "provenance": [
    {
     "file_id": "1Ix88yVlHV2Mr--QclrCt6-pf-limbKBK",
     "timestamp": 1697213143702
    }
   ],
   "toc_visible": true
  },
  "kernelspec": {
   "display_name": "Python 3 (ipykernel)",
   "language": "python",
   "name": "python3"
  },
  "language_info": {
   "codemirror_mode": {
    "name": "ipython",
    "version": 3
   },
   "file_extension": ".py",
   "mimetype": "text/x-python",
   "name": "python",
   "nbconvert_exporter": "python",
   "pygments_lexer": "ipython3",
   "version": "3.12.4"
  }
 },
 "nbformat": 4,
 "nbformat_minor": 4
}
