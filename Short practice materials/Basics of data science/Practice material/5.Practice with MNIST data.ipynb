{
 "cells": [
  {
   "cell_type": "markdown",
   "id": "dd5a23f6",
   "metadata": {
    "id": "dd5a23f6"
   },
   "source": [
    "\n",
    "## Tangent: Introduction to NNs\n",
    "> Today's question: **How can I classify handwritten digits?**\n",
    "\n",
    "Neural networks are getting more and more popular as they get more and more powerful. Thus, it is imperative to know how they are used and at least a high-level understanding of what they are and how they are implemented. Thus, in today's lecture, we'll be going through a famous introduction application of neural networks -- MNIST handwritten digit recognition.\n",
    "\n",
    "#### Learning outcomes:\n",
    "- Tensorflow basics\n",
    "- Reshaping inputs, outputs\n",
    "- Creating a Sequential model\n",
    "- Training a model\n",
    "- GPU acceleration (just a sprinkle)\n",
    "- Overfitting/underfitting + validation"
   ]
  },
  {
   "cell_type": "markdown",
   "id": "8725c6fa",
   "metadata": {
    "id": "8725c6fa"
   },
   "source": [
    "First, we load common libraries becuase it is very likely that we will use them in our project."
   ]
  },
  {
   "cell_type": "code",
   "execution_count": null,
   "id": "c2eb7a13",
   "metadata": {
    "id": "c2eb7a13"
   },
   "outputs": [],
   "source": [
    "import matplotlib.pyplot as plt # plotting data and results\n",
    "import numpy as np              # reshaping and basic numerical methods"
   ]
  },
  {
   "cell_type": "markdown",
   "id": "8800d23c",
   "metadata": {
    "id": "8800d23c"
   },
   "source": [
    "Tensorflow is a machine learning framework primarily built and maintained by Google that makes it very simple to create machine learning models. In our case, we want to build an MLP, so this library suffices."
   ]
  },
  {
   "cell_type": "code",
   "execution_count": null,
   "id": "a391f198",
   "metadata": {
    "id": "a391f198"
   },
   "outputs": [],
   "source": [
    "import tensorflow as tf\n",
    "from tensorflow.keras import layers, losses, models, optimizers"
   ]
  },
  {
   "cell_type": "markdown",
   "id": "bfef3a6e",
   "metadata": {
    "id": "bfef3a6e"
   },
   "source": [
    "Now, we need to get our MNIST dataset from somewhere. We could get them from the 'original' website, http://yann.lecun.com/exdb/mnist/, but luckily for us, it comes pre-packaged in Tensorflow.\n",
    "\n",
    "> Why would a dataset come pre-packaged in a library like TF?"
   ]
  },
  {
   "cell_type": "code",
   "execution_count": null,
   "id": "a7edb36f",
   "metadata": {
    "id": "a7edb36f"
   },
   "outputs": [],
   "source": [
    "from tensorflow.keras.datasets import mnist"
   ]
  },
  {
   "cell_type": "markdown",
   "id": "fd0917b2",
   "metadata": {
    "id": "fd0917b2"
   },
   "source": [
    "Load data"
   ]
  },
  {
   "cell_type": "code",
   "execution_count": null,
   "id": "2f25334b",
   "metadata": {
    "colab": {
     "base_uri": "https://localhost:8080/"
    },
    "executionInfo": {
     "elapsed": 594,
     "status": "ok",
     "timestamp": 1739185903671,
     "user": {
      "displayName": "Bazyli Widawski",
      "userId": "11320367441125591617"
     },
     "user_tz": -60
    },
    "id": "2f25334b",
    "outputId": "d4db7ec7-0d19-4586-a8fc-ec2081cad48a"
   },
   "outputs": [
    {
     "name": "stdout",
     "output_type": "stream",
     "text": [
      "Downloading data from https://storage.googleapis.com/tensorflow/tf-keras-datasets/mnist.npz\n",
      "\u001b[1m11490434/11490434\u001b[0m \u001b[32m━━━━━━━━━━━━━━━━━━━━\u001b[0m\u001b[37m\u001b[0m \u001b[1m0s\u001b[0m 0us/step\n"
     ]
    }
   ],
   "source": [
    "(x_train, y_train), (x_test, y_test) = mnist.load_data()"
   ]
  },
  {
   "cell_type": "markdown",
   "id": "d0fd1ad3",
   "metadata": {
    "id": "d0fd1ad3"
   },
   "source": [
    "What do we do when we first load data?\n",
    "\n",
    "- Look at inputs\n",
    "- Look at outputs"
   ]
  },
  {
   "cell_type": "code",
   "execution_count": null,
   "id": "0943115c",
   "metadata": {
    "colab": {
     "base_uri": "https://localhost:8080/"
    },
    "executionInfo": {
     "elapsed": 6,
     "status": "ok",
     "timestamp": 1739186029289,
     "user": {
      "displayName": "Bazyli Widawski",
      "userId": "11320367441125591617"
     },
     "user_tz": -60
    },
    "id": "0943115c",
    "outputId": "dc99bc67-f6cf-407b-d71c-145896c43864"
   },
   "outputs": [
    {
     "data": {
      "text/plain": [
       "array([[[0, 0, 0, ..., 0, 0, 0],\n",
       "        [0, 0, 0, ..., 0, 0, 0],\n",
       "        [0, 0, 0, ..., 0, 0, 0],\n",
       "        ...,\n",
       "        [0, 0, 0, ..., 0, 0, 0],\n",
       "        [0, 0, 0, ..., 0, 0, 0],\n",
       "        [0, 0, 0, ..., 0, 0, 0]],\n",
       "\n",
       "       [[0, 0, 0, ..., 0, 0, 0],\n",
       "        [0, 0, 0, ..., 0, 0, 0],\n",
       "        [0, 0, 0, ..., 0, 0, 0],\n",
       "        ...,\n",
       "        [0, 0, 0, ..., 0, 0, 0],\n",
       "        [0, 0, 0, ..., 0, 0, 0],\n",
       "        [0, 0, 0, ..., 0, 0, 0]],\n",
       "\n",
       "       [[0, 0, 0, ..., 0, 0, 0],\n",
       "        [0, 0, 0, ..., 0, 0, 0],\n",
       "        [0, 0, 0, ..., 0, 0, 0],\n",
       "        ...,\n",
       "        [0, 0, 0, ..., 0, 0, 0],\n",
       "        [0, 0, 0, ..., 0, 0, 0],\n",
       "        [0, 0, 0, ..., 0, 0, 0]],\n",
       "\n",
       "       ...,\n",
       "\n",
       "       [[0, 0, 0, ..., 0, 0, 0],\n",
       "        [0, 0, 0, ..., 0, 0, 0],\n",
       "        [0, 0, 0, ..., 0, 0, 0],\n",
       "        ...,\n",
       "        [0, 0, 0, ..., 0, 0, 0],\n",
       "        [0, 0, 0, ..., 0, 0, 0],\n",
       "        [0, 0, 0, ..., 0, 0, 0]],\n",
       "\n",
       "       [[0, 0, 0, ..., 0, 0, 0],\n",
       "        [0, 0, 0, ..., 0, 0, 0],\n",
       "        [0, 0, 0, ..., 0, 0, 0],\n",
       "        ...,\n",
       "        [0, 0, 0, ..., 0, 0, 0],\n",
       "        [0, 0, 0, ..., 0, 0, 0],\n",
       "        [0, 0, 0, ..., 0, 0, 0]],\n",
       "\n",
       "       [[0, 0, 0, ..., 0, 0, 0],\n",
       "        [0, 0, 0, ..., 0, 0, 0],\n",
       "        [0, 0, 0, ..., 0, 0, 0],\n",
       "        ...,\n",
       "        [0, 0, 0, ..., 0, 0, 0],\n",
       "        [0, 0, 0, ..., 0, 0, 0],\n",
       "        [0, 0, 0, ..., 0, 0, 0]]], dtype=uint8)"
      ]
     },
     "execution_count": 8,
     "metadata": {},
     "output_type": "execute_result"
    }
   ],
   "source": [
    "x_train"
   ]
  },
  {
   "cell_type": "code",
   "execution_count": null,
   "id": "196518e5",
   "metadata": {
    "colab": {
     "base_uri": "https://localhost:8080/"
    },
    "executionInfo": {
     "elapsed": 12,
     "status": "ok",
     "timestamp": 1739185991160,
     "user": {
      "displayName": "Bazyli Widawski",
      "userId": "11320367441125591617"
     },
     "user_tz": -60
    },
    "id": "196518e5",
    "outputId": "d7572f7c-08f3-4bf9-823e-65905be5b1eb"
   },
   "outputs": [
    {
     "data": {
      "text/plain": [
       "5"
      ]
     },
     "execution_count": 6,
     "metadata": {},
     "output_type": "execute_result"
    }
   ],
   "source": [
    "y_train[0]"
   ]
  },
  {
   "cell_type": "code",
   "execution_count": null,
   "id": "2432f619",
   "metadata": {
    "colab": {
     "base_uri": "https://localhost:8080/"
    },
    "executionInfo": {
     "elapsed": 9,
     "status": "ok",
     "timestamp": 1739186056045,
     "user": {
      "displayName": "Bazyli Widawski",
      "userId": "11320367441125591617"
     },
     "user_tz": -60
    },
    "id": "2432f619",
    "outputId": "3f1620bb-d551-4029-9c8b-7aee5286127b"
   },
   "outputs": [
    {
     "data": {
      "text/plain": [
       "((60000, 28, 28), (60000,))"
      ]
     },
     "execution_count": 9,
     "metadata": {},
     "output_type": "execute_result"
    }
   ],
   "source": [
    "x_train.shape, y_train.shape"
   ]
  },
  {
   "cell_type": "markdown",
   "id": "83ae65fb",
   "metadata": {
    "id": "83ae65fb"
   },
   "source": [
    "Since we expect MNIST to be images, we can also view the raw data as images"
   ]
  },
  {
   "cell_type": "code",
   "execution_count": null,
   "id": "28426e50",
   "metadata": {
    "colab": {
     "base_uri": "https://localhost:8080/",
     "height": 452
    },
    "executionInfo": {
     "elapsed": 432,
     "status": "ok",
     "timestamp": 1739186166823,
     "user": {
      "displayName": "Bazyli Widawski",
      "userId": "11320367441125591617"
     },
     "user_tz": -60
    },
    "id": "28426e50",
    "outputId": "33c986aa-b39b-4b2b-c533-093e6005bf4a"
   },
   "outputs": [
    {
     "data": {
      "image/png": "[encoded data removed]",
      "text/plain": [
       "<Figure size 640x480 with 1 Axes>"
      ]
     },
     "metadata": {},
     "output_type": "display_data"
    }
   ],
   "source": [
    "idx = np.random.randint(len(x_train))\n",
    "\n",
    "plt.imshow(x_train[idx], cmap='gray')\n",
    "plt.title(\"label: \"+str(y_train[idx]))\n",
    "plt.show()"
   ]
  },
  {
   "cell_type": "markdown",
   "id": "25aa439e",
   "metadata": {
    "id": "25aa439e"
   },
   "source": [
    "#### Preprocess data\n",
    "The next thing we need to do now is to reform our data such that it is valid to be used in conjunction with a neural network.\n",
    "> What is the required shape of the inputs?"
   ]
  },
  {
   "cell_type": "code",
   "execution_count": null,
   "id": "65935d5c",
   "metadata": {
    "id": "65935d5c"
   },
   "outputs": [],
   "source": [
    "x_train = x_train.reshape(x_train.shape[0], -1)\n",
    "x_test = x_test.reshape(x_test.shape[0], -1)"
   ]
  },
  {
   "cell_type": "code",
   "execution_count": null,
   "id": "b242c726",
   "metadata": {
    "colab": {
     "base_uri": "https://localhost:8080/"
    },
    "executionInfo": {
     "elapsed": 183,
     "status": "ok",
     "timestamp": 1739186313984,
     "user": {
      "displayName": "Bazyli Widawski",
      "userId": "11320367441125591617"
     },
     "user_tz": -60
    },
    "id": "b242c726",
    "outputId": "130dbff6-c52b-4ba6-d9d2-80f66df53987"
   },
   "outputs": [
    {
     "data": {
      "text/plain": [
       "array([  0,   0,   0,   0,   0,   0,   0,   0,   0,   0,   0,   0,   0,\n",
       "         0,   0,   0,   0,   0,   0,   0,   0,   0,   0,   0,   0,   0,\n",
       "         0,   0,   0,   0,   0,   0,   0,   0,   0,   0,   0,   0,   0,\n",
       "         0,   0,   0,   0,   0,   0,   0,   0,   0,   0,   0,   0,   0,\n",
       "         0,   0,   0,   0,   0,   0,   0,   0,   0,   0,   0,   0,   0,\n",
       "         0,   0,   0,   0,   0,   0,   0,   0,   0,   0,   0,   0,   0,\n",
       "         0,   0,   0,   0,   0,   0,   0,   0,   0,   0,   0,   0,   0,\n",
       "         0,   0,   0,   0,   0,   0,   0,   0,   0,   0,   0,   0,   0,\n",
       "         0,   0,   0,   0,   0,   0,   0,   0,   0,   0,   0,   0,   0,\n",
       "         0,   0,   0,   0,   0,   0,   0,   0,   0,   0,   0,   0,   0,\n",
       "         0,   0,   0,   0,   0,   0,   0,   0,   0,   0,   0,   0,   0,\n",
       "         0,   0,   0,   0,   0,   0,   0,   0,   0,   3,  18,  18,  18,\n",
       "       126, 136, 175,  26, 166, 255, 247, 127,   0,   0,   0,   0,   0,\n",
       "         0,   0,   0,   0,   0,   0,   0,  30,  36,  94, 154, 170, 253,\n",
       "       253, 253, 253, 253, 225, 172, 253, 242, 195,  64,   0,   0,   0,\n",
       "         0,   0,   0,   0,   0,   0,   0,   0,  49, 238, 253, 253, 253,\n",
       "       253, 253, 253, 253, 253, 251,  93,  82,  82,  56,  39,   0,   0,\n",
       "         0,   0,   0,   0,   0,   0,   0,   0,   0,   0,  18, 219, 253,\n",
       "       253, 253, 253, 253, 198, 182, 247, 241,   0,   0,   0,   0,   0,\n",
       "         0,   0,   0,   0,   0,   0,   0,   0,   0,   0,   0,   0,   0,\n",
       "        80, 156, 107, 253, 253, 205,  11,   0,  43, 154,   0,   0,   0,\n",
       "         0,   0,   0,   0,   0,   0,   0,   0,   0,   0,   0,   0,   0,\n",
       "         0,   0,   0,  14,   1, 154, 253,  90,   0,   0,   0,   0,   0,\n",
       "         0,   0,   0,   0,   0,   0,   0,   0,   0,   0,   0,   0,   0,\n",
       "         0,   0,   0,   0,   0,   0,   0, 139, 253, 190,   2,   0,   0,\n",
       "         0,   0,   0,   0,   0,   0,   0,   0,   0,   0,   0,   0,   0,\n",
       "         0,   0,   0,   0,   0,   0,   0,   0,   0,  11, 190, 253,  70,\n",
       "         0,   0,   0,   0,   0,   0,   0,   0,   0,   0,   0,   0,   0,\n",
       "         0,   0,   0,   0,   0,   0,   0,   0,   0,   0,   0,   0,  35,\n",
       "       241, 225, 160, 108,   1,   0,   0,   0,   0,   0,   0,   0,   0,\n",
       "         0,   0,   0,   0,   0,   0,   0,   0,   0,   0,   0,   0,   0,\n",
       "         0,   0,  81, 240, 253, 253, 119,  25,   0,   0,   0,   0,   0,\n",
       "         0,   0,   0,   0,   0,   0,   0,   0,   0,   0,   0,   0,   0,\n",
       "         0,   0,   0,   0,   0,  45, 186, 253, 253, 150,  27,   0,   0,\n",
       "         0,   0,   0,   0,   0,   0,   0,   0,   0,   0,   0,   0,   0,\n",
       "         0,   0,   0,   0,   0,   0,   0,   0,  16,  93, 252, 253, 187,\n",
       "         0,   0,   0,   0,   0,   0,   0,   0,   0,   0,   0,   0,   0,\n",
       "         0,   0,   0,   0,   0,   0,   0,   0,   0,   0,   0,   0, 249,\n",
       "       253, 249,  64,   0,   0,   0,   0,   0,   0,   0,   0,   0,   0,\n",
       "         0,   0,   0,   0,   0,   0,   0,   0,   0,   0,   0,  46, 130,\n",
       "       183, 253, 253, 207,   2,   0,   0,   0,   0,   0,   0,   0,   0,\n",
       "         0,   0,   0,   0,   0,   0,   0,   0,   0,   0,   0,  39, 148,\n",
       "       229, 253, 253, 253, 250, 182,   0,   0,   0,   0,   0,   0,   0,\n",
       "         0,   0,   0,   0,   0,   0,   0,   0,   0,   0,   0,  24, 114,\n",
       "       221, 253, 253, 253, 253, 201,  78,   0,   0,   0,   0,   0,   0,\n",
       "         0,   0,   0,   0,   0,   0,   0,   0,   0,   0,   0,  23,  66,\n",
       "       213, 253, 253, 253, 253, 198,  81,   2,   0,   0,   0,   0,   0,\n",
       "         0,   0,   0,   0,   0,   0,   0,   0,   0,   0,   0,  18, 171,\n",
       "       219, 253, 253, 253, 253, 195,  80,   9,   0,   0,   0,   0,   0,\n",
       "         0,   0,   0,   0,   0,   0,   0,   0,   0,   0,   0,  55, 172,\n",
       "       226, 253, 253, 253, 253, 244, 133,  11,   0,   0,   0,   0,   0,\n",
       "         0,   0,   0,   0,   0,   0,   0,   0,   0,   0,   0,   0,   0,\n",
       "       136, 253, 253, 253, 212, 135, 132,  16,   0,   0,   0,   0,   0,\n",
       "         0,   0,   0,   0,   0,   0,   0,   0,   0,   0,   0,   0,   0,\n",
       "         0,   0,   0,   0,   0,   0,   0,   0,   0,   0,   0,   0,   0,\n",
       "         0,   0,   0,   0,   0,   0,   0,   0,   0,   0,   0,   0,   0,\n",
       "         0,   0,   0,   0,   0,   0,   0,   0,   0,   0,   0,   0,   0,\n",
       "         0,   0,   0,   0,   0,   0,   0,   0,   0,   0,   0,   0,   0,\n",
       "         0,   0,   0,   0,   0,   0,   0,   0,   0,   0,   0,   0,   0,\n",
       "         0,   0,   0,   0,   0,   0,   0,   0,   0,   0,   0,   0,   0,\n",
       "         0,   0,   0,   0], dtype=uint8)"
      ]
     },
     "execution_count": 20,
     "metadata": {},
     "output_type": "execute_result"
    }
   ],
   "source": [
    "x_train[0]"
   ]
  },
  {
   "cell_type": "code",
   "execution_count": null,
   "id": "33accd37",
   "metadata": {
    "colab": {
     "base_uri": "https://localhost:8080/"
    },
    "executionInfo": {
     "elapsed": 30,
     "status": "ok",
     "timestamp": 1739186323234,
     "user": {
      "displayName": "Bazyli Widawski",
      "userId": "11320367441125591617"
     },
     "user_tz": -60
    },
    "id": "33accd37",
    "outputId": "c529818f-775d-4b03-f4e0-0a5b511c8f48"
   },
   "outputs": [
    {
     "data": {
      "text/plain": [
       "(784,)"
      ]
     },
     "execution_count": 21,
     "metadata": {},
     "output_type": "execute_result"
    }
   ],
   "source": [
    "x_train[0].shape"
   ]
  },
  {
   "cell_type": "markdown",
   "id": "4c5c81fa",
   "metadata": {
    "id": "4c5c81fa"
   },
   "source": [
    "> What is the shape of the outputs?"
   ]
  },
  {
   "cell_type": "code",
   "execution_count": null,
   "id": "bad893ab",
   "metadata": {
    "id": "bad893ab"
   },
   "outputs": [],
   "source": [
    "# One-hot encode the labels\n",
    "from tensorflow.keras.utils import to_categorical\n",
    "\n",
    "y_train = to_categorical(y_train)\n",
    "y_test = to_categorical(y_test)"
   ]
  },
  {
   "cell_type": "code",
   "execution_count": null,
   "id": "c2478749",
   "metadata": {
    "colab": {
     "base_uri": "https://localhost:8080/"
    },
    "executionInfo": {
     "elapsed": 40,
     "status": "ok",
     "timestamp": 1739186422854,
     "user": {
      "displayName": "Bazyli Widawski",
      "userId": "11320367441125591617"
     },
     "user_tz": -60
    },
    "id": "c2478749",
    "outputId": "47a8420a-04b6-4b7d-e047-6d8f67ded166"
   },
   "outputs": [
    {
     "data": {
      "text/plain": [
       "array([0., 0., 0., 0., 0., 1., 0., 0., 0., 0.])"
      ]
     },
     "execution_count": 24,
     "metadata": {},
     "output_type": "execute_result"
    }
   ],
   "source": [
    "y_train[0]"
   ]
  },
  {
   "cell_type": "code",
   "execution_count": null,
   "id": "afa0c22d",
   "metadata": {
    "colab": {
     "base_uri": "https://localhost:8080/"
    },
    "executionInfo": {
     "elapsed": 4,
     "status": "ok",
     "timestamp": 1739186453278,
     "user": {
      "displayName": "Bazyli Widawski",
      "userId": "11320367441125591617"
     },
     "user_tz": -60
    },
    "id": "afa0c22d",
    "outputId": "6639bc54-ae16-4ca4-e7f0-9714a3f1d35d"
   },
   "outputs": [
    {
     "data": {
      "text/plain": [
       "(60000, 10)"
      ]
     },
     "execution_count": 25,
     "metadata": {},
     "output_type": "execute_result"
    }
   ],
   "source": [
    "y_train.shape"
   ]
  },
  {
   "cell_type": "markdown",
   "id": "13e61f23",
   "metadata": {
    "id": "13e61f23"
   },
   "source": [
    "### Building the model\n",
    "Now, we can start with the actual NN. We first define our input and output sizes."
   ]
  },
  {
   "cell_type": "code",
   "execution_count": null,
   "id": "b21dbdd4",
   "metadata": {
    "id": "b21dbdd4"
   },
   "outputs": [],
   "source": [
    "in_shape = 28*28\n",
    "out_shape = 10"
   ]
  },
  {
   "cell_type": "markdown",
   "id": "ddcc8057",
   "metadata": {
    "id": "ddcc8057"
   },
   "source": [
    "Now, we define a _Sequential_ model in Tensorflow. What this essentially means is that the neural network contains layers of processing units stacks upon one another, and data flows through each from input to output. It is generally considered the simplest model, and is what we need to create an MLP.\n",
    "\n",
    "First, we can optionally define an input 'layer' to keep track of what the expected shape of the input is.\n",
    "\n",
    "Each next layer here is called a _Dense_ layer: each neuron from one layer is connected to every other from the next layer. These are also called fully-connected layers, and are used commonly in MLPs.\n",
    "\n",
    "Each of these layers has a regularised linear unit non-linear activation function. It is defined as:\n",
    "$$ \\text{ReLU}(x) = \\max(0,x) $$\n",
    "\n",
    "Finally, the final layer has a softmax activation function on it, which (i) is used to change the raw outputs to probabilities, and (ii) is the most commonly used output activation function in classification tasks."
   ]
  },
  {
   "cell_type": "code",
   "execution_count": null,
   "id": "08a249f7",
   "metadata": {
    "id": "08a249f7"
   },
   "outputs": [],
   "source": [
    "model = models.Sequential() # At each layer weights + bias so X -> W*X + b ||| W1*X +b1 -> W2(W1*X +b1) + b2 = W*X+b\n",
    "model.add(layers.Input(shape=(in_shape,)))\n",
    "model.add(layers.Dense(128, activation='relu')) # between layers non-linear \"activation function\"\n",
    "model.add(layers.Dense(64, activation='relu')) # between layers non-linear \"activation function\"\n",
    "model.add(layers.Dense(out_shape, activation='softmax')) # final layer and the output: categorical classification function (sigmoid for binary)"
   ]
  },
  {
   "cell_type": "markdown",
   "id": "eab8d647",
   "metadata": {
    "id": "eab8d647"
   },
   "source": [
    "We now define a few important training requirements for the model -- how does it train, what loss function to use, and how do I measure how good my model is doing."
   ]
  },
  {
   "cell_type": "code",
   "execution_count": null,
   "id": "2de6db8a",
   "metadata": {
    "id": "2de6db8a"
   },
   "outputs": [],
   "source": [
    "model.compile(optimizer=optimizers.Adam(), #\n",
    "                loss='categorical_crossentropy',\n",
    "                metrics=['accuracy'])"
   ]
  },
  {
   "cell_type": "markdown",
   "id": "a1075a7e",
   "metadata": {
    "id": "a1075a7e"
   },
   "source": [
    "It is generally very good practice to also look at a summary of the model, just to make sure that the form of the model is what you want it to be. In this case, it should look all good!"
   ]
  },
  {
   "cell_type": "code",
   "execution_count": null,
   "id": "7e4585db",
   "metadata": {
    "colab": {
     "base_uri": "https://localhost:8080/",
     "height": 225
    },
    "executionInfo": {
     "elapsed": 43,
     "status": "ok",
     "timestamp": 1739187204368,
     "user": {
      "displayName": "Bazyli Widawski",
      "userId": "11320367441125591617"
     },
     "user_tz": -60
    },
    "id": "7e4585db",
    "outputId": "eb25c40f-c5a9-4f8e-fcca-b59383ae5d6c"
   },
   "outputs": [
    {
     "data": {
      "text/html": [
       "<pre style=\"white-space:pre;overflow-x:auto;line-height:normal;font-family:Menlo,'DejaVu Sans Mono',consolas,'Courier New',monospace\"><span style=\"font-weight: bold\">Model: \"sequential\"</span>\n",
       "</pre>\n"
      ],
      "text/plain": [
       "\u001b[1mModel: \"sequential\"\u001b[0m\n"
      ]
     },
     "metadata": {},
     "output_type": "display_data"
    },
    {
     "data": {
      "text/html": [
       "<pre style=\"white-space:pre;overflow-x:auto;line-height:normal;font-family:Menlo,'DejaVu Sans Mono',consolas,'Courier New',monospace\">┏━━━━━━━━━━━━━━━━━━━━━━━━━━━━━━━━━━━━━━┳━━━━━━━━━━━━━━━━━━━━━━━━━━━━━┳━━━━━━━━━━━━━━━━━┓\n",
       "┃<span style=\"font-weight: bold\"> Layer (type)                         </span>┃<span style=\"font-weight: bold\"> Output Shape                </span>┃<span style=\"font-weight: bold\">         Param # </span>┃\n",
       "┡━━━━━━━━━━━━━━━━━━━━━━━━━━━━━━━━━━━━━━╇━━━━━━━━━━━━━━━━━━━━━━━━━━━━━╇━━━━━━━━━━━━━━━━━┩\n",
       "│ dense (<span style=\"color: #0087ff; text-decoration-color: #0087ff\">Dense</span>)                        │ (<span style=\"color: #00d7ff; text-decoration-color: #00d7ff\">None</span>, <span style=\"color: #00af00; text-decoration-color: #00af00\">128</span>)                 │         <span style=\"color: #00af00; text-decoration-color: #00af00\">100,480</span> │\n",
       "├──────────────────────────────────────┼─────────────────────────────┼─────────────────┤\n",
       "│ dense_1 (<span style=\"color: #0087ff; text-decoration-color: #0087ff\">Dense</span>)                      │ (<span style=\"color: #00d7ff; text-decoration-color: #00d7ff\">None</span>, <span style=\"color: #00af00; text-decoration-color: #00af00\">64</span>)                  │           <span style=\"color: #00af00; text-decoration-color: #00af00\">8,256</span> │\n",
       "├──────────────────────────────────────┼─────────────────────────────┼─────────────────┤\n",
       "│ dense_2 (<span style=\"color: #0087ff; text-decoration-color: #0087ff\">Dense</span>)                      │ (<span style=\"color: #00d7ff; text-decoration-color: #00d7ff\">None</span>, <span style=\"color: #00af00; text-decoration-color: #00af00\">10</span>)                  │             <span style=\"color: #00af00; text-decoration-color: #00af00\">650</span> │\n",
       "└──────────────────────────────────────┴─────────────────────────────┴─────────────────┘\n",
       "</pre>\n"
      ],
      "text/plain": [
       "┏━━━━━━━━━━━━━━━━━━━━━━━━━━━━━━━━━━━━━━┳━━━━━━━━━━━━━━━━━━━━━━━━━━━━━┳━━━━━━━━━━━━━━━━━┓\n",
       "┃\u001b[1m \u001b[0m\u001b[1mLayer (type)                        \u001b[0m\u001b[1m \u001b[0m┃\u001b[1m \u001b[0m\u001b[1mOutput Shape               \u001b[0m\u001b[1m \u001b[0m┃\u001b[1m \u001b[0m\u001b[1m        Param #\u001b[0m\u001b[1m \u001b[0m┃\n",
       "┡━━━━━━━━━━━━━━━━━━━━━━━━━━━━━━━━━━━━━━╇━━━━━━━━━━━━━━━━━━━━━━━━━━━━━╇━━━━━━━━━━━━━━━━━┩\n",
       "│ dense (\u001b[38;5;33mDense\u001b[0m)                        │ (\u001b[38;5;45mNone\u001b[0m, \u001b[38;5;34m128\u001b[0m)                 │         \u001b[38;5;34m100,480\u001b[0m │\n",
       "├──────────────────────────────────────┼─────────────────────────────┼─────────────────┤\n",
       "│ dense_1 (\u001b[38;5;33mDense\u001b[0m)                      │ (\u001b[38;5;45mNone\u001b[0m, \u001b[38;5;34m64\u001b[0m)                  │           \u001b[38;5;34m8,256\u001b[0m │\n",
       "├──────────────────────────────────────┼─────────────────────────────┼─────────────────┤\n",
       "│ dense_2 (\u001b[38;5;33mDense\u001b[0m)                      │ (\u001b[38;5;45mNone\u001b[0m, \u001b[38;5;34m10\u001b[0m)                  │             \u001b[38;5;34m650\u001b[0m │\n",
       "└──────────────────────────────────────┴─────────────────────────────┴─────────────────┘\n"
      ]
     },
     "metadata": {},
     "output_type": "display_data"
    },
    {
     "data": {
      "text/html": [
       "<pre style=\"white-space:pre;overflow-x:auto;line-height:normal;font-family:Menlo,'DejaVu Sans Mono',consolas,'Courier New',monospace\"><span style=\"font-weight: bold\"> Total params: </span><span style=\"color: #00af00; text-decoration-color: #00af00\">109,386</span> (427.29 KB)\n",
       "</pre>\n"
      ],
      "text/plain": [
       "\u001b[1m Total params: \u001b[0m\u001b[38;5;34m109,386\u001b[0m (427.29 KB)\n"
      ]
     },
     "metadata": {},
     "output_type": "display_data"
    },
    {
     "data": {
      "text/html": [
       "<pre style=\"white-space:pre;overflow-x:auto;line-height:normal;font-family:Menlo,'DejaVu Sans Mono',consolas,'Courier New',monospace\"><span style=\"font-weight: bold\"> Trainable params: </span><span style=\"color: #00af00; text-decoration-color: #00af00\">109,386</span> (427.29 KB)\n",
       "</pre>\n"
      ],
      "text/plain": [
       "\u001b[1m Trainable params: \u001b[0m\u001b[38;5;34m109,386\u001b[0m (427.29 KB)\n"
      ]
     },
     "metadata": {},
     "output_type": "display_data"
    },
    {
     "data": {
      "text/html": [
       "<pre style=\"white-space:pre;overflow-x:auto;line-height:normal;font-family:Menlo,'DejaVu Sans Mono',consolas,'Courier New',monospace\"><span style=\"font-weight: bold\"> Non-trainable params: </span><span style=\"color: #00af00; text-decoration-color: #00af00\">0</span> (0.00 B)\n",
       "</pre>\n"
      ],
      "text/plain": [
       "\u001b[1m Non-trainable params: \u001b[0m\u001b[38;5;34m0\u001b[0m (0.00 B)\n"
      ]
     },
     "metadata": {},
     "output_type": "display_data"
    }
   ],
   "source": [
    "model.summary()"
   ]
  },
  {
   "cell_type": "markdown",
   "id": "8eb6fd78",
   "metadata": {
    "id": "8eb6fd78"
   },
   "source": [
    "Training time! We now just need to call `model.fit()` with our data, the number of training cycles (epochs) and other factors that may influence training"
   ]
  },
  {
   "cell_type": "code",
   "execution_count": null,
   "id": "30895bd6",
   "metadata": {
    "colab": {
     "base_uri": "https://localhost:8080/"
    },
    "executionInfo": {
     "elapsed": 32106,
     "status": "ok",
     "timestamp": 1739187754466,
     "user": {
      "displayName": "Bazyli Widawski",
      "userId": "11320367441125591617"
     },
     "user_tz": -60
    },
    "id": "30895bd6",
    "outputId": "49cdda22-d0ef-4c1a-c32a-9181070816da"
   },
   "outputs": [
    {
     "name": "stdout",
     "output_type": "stream",
     "text": [
      "Epoch 1/10\n",
      "\u001b[1m375/375\u001b[0m \u001b[32m━━━━━━━━━━━━━━━━━━━━\u001b[0m\u001b[37m\u001b[0m \u001b[1m4s\u001b[0m 10ms/step - accuracy: 0.9562 - loss: 0.1554 - val_accuracy: 0.9378 - val_loss: 0.2660\n",
      "Epoch 2/10\n",
      "\u001b[1m375/375\u001b[0m \u001b[32m━━━━━━━━━━━━━━━━━━━━\u001b[0m\u001b[37m\u001b[0m \u001b[1m2s\u001b[0m 6ms/step - accuracy: 0.9588 - loss: 0.1391 - val_accuracy: 0.9530 - val_loss: 0.2516\n",
      "Epoch 3/10\n",
      "\u001b[1m375/375\u001b[0m \u001b[32m━━━━━━━━━━━━━━━━━━━━\u001b[0m\u001b[37m\u001b[0m \u001b[1m2s\u001b[0m 5ms/step - accuracy: 0.9661 - loss: 0.1173 - val_accuracy: 0.9501 - val_loss: 0.2322\n",
      "Epoch 4/10\n",
      "\u001b[1m375/375\u001b[0m \u001b[32m━━━━━━━━━━━━━━━━━━━━\u001b[0m\u001b[37m\u001b[0m \u001b[1m3s\u001b[0m 6ms/step - accuracy: 0.9702 - loss: 0.1009 - val_accuracy: 0.9536 - val_loss: 0.2371\n",
      "Epoch 5/10\n",
      "\u001b[1m375/375\u001b[0m \u001b[32m━━━━━━━━━━━━━━━━━━━━\u001b[0m\u001b[37m\u001b[0m \u001b[1m3s\u001b[0m 6ms/step - accuracy: 0.9710 - loss: 0.0960 - val_accuracy: 0.9481 - val_loss: 0.2688\n",
      "Epoch 6/10\n",
      "\u001b[1m375/375\u001b[0m \u001b[32m━━━━━━━━━━━━━━━━━━━━\u001b[0m\u001b[37m\u001b[0m \u001b[1m4s\u001b[0m 10ms/step - accuracy: 0.9727 - loss: 0.0967 - val_accuracy: 0.9562 - val_loss: 0.2194\n",
      "Epoch 7/10\n",
      "\u001b[1m375/375\u001b[0m \u001b[32m━━━━━━━━━━━━━━━━━━━━\u001b[0m\u001b[37m\u001b[0m \u001b[1m3s\u001b[0m 6ms/step - accuracy: 0.9757 - loss: 0.0825 - val_accuracy: 0.9528 - val_loss: 0.2608\n",
      "Epoch 8/10\n",
      "\u001b[1m375/375\u001b[0m \u001b[32m━━━━━━━━━━━━━━━━━━━━\u001b[0m\u001b[37m\u001b[0m \u001b[1m3s\u001b[0m 6ms/step - accuracy: 0.9753 - loss: 0.0861 - val_accuracy: 0.9602 - val_loss: 0.1922\n",
      "Epoch 9/10\n",
      "\u001b[1m375/375\u001b[0m \u001b[32m━━━━━━━━━━━━━━━━━━━━\u001b[0m\u001b[37m\u001b[0m \u001b[1m2s\u001b[0m 6ms/step - accuracy: 0.9768 - loss: 0.0762 - val_accuracy: 0.9551 - val_loss: 0.2033\n",
      "Epoch 10/10\n",
      "\u001b[1m375/375\u001b[0m \u001b[32m━━━━━━━━━━━━━━━━━━━━\u001b[0m\u001b[37m\u001b[0m \u001b[1m3s\u001b[0m 8ms/step - accuracy: 0.9785 - loss: 0.0708 - val_accuracy: 0.9614 - val_loss: 0.1915\n"
     ]
    },
    {
     "data": {
      "text/plain": [
       "<keras.src.callbacks.history.History at 0x7e95a3fc5250>"
      ]
     },
     "execution_count": 35,
     "metadata": {},
     "output_type": "execute_result"
    }
   ],
   "source": [
    "model.fit(x_train, y_train, epochs=10, batch_size=128, validation_split=0.2)"
   ]
  },
  {
   "cell_type": "markdown",
   "id": "dafa7518",
   "metadata": {
    "id": "dafa7518"
   },
   "source": [
    "In order to make sure our model is training well, we can plot loss curves. This will also tell us whether or not our model is overfitting, and if there is anything we can do to help it train (e.g. changing some hyperparameters)."
   ]
  },
  {
   "cell_type": "code",
   "execution_count": null,
   "id": "dbcc1c28",
   "metadata": {
    "id": "dbcc1c28"
   },
   "outputs": [],
   "source": [
    "# gather up learning history\n",
    "train_loss = model.history.history['loss']\n",
    "val_loss = model.history.history['val_loss']\n",
    "train_acc = model.history.history['accuracy']\n",
    "val_acc = model.history.history['val_accuracy']\n",
    "\n",
    "epochs = range(1, len(train_loss)+1)"
   ]
  },
  {
   "cell_type": "code",
   "execution_count": null,
   "id": "77514c9c",
   "metadata": {
    "colab": {
     "base_uri": "https://localhost:8080/",
     "height": 391
    },
    "executionInfo": {
     "elapsed": 639,
     "status": "ok",
     "timestamp": 1739187763621,
     "user": {
      "displayName": "Bazyli Widawski",
      "userId": "11320367441125591617"
     },
     "user_tz": -60
    },
    "id": "77514c9c",
    "outputId": "bf7dd3ff-ab0a-463f-c8d7-73b5b91e4e58"
   },
   "outputs": [
    {
     "data": {
      "image/png": "[encoded data removed]",
      "text/plain": [
       "<Figure size 1200x400 with 2 Axes>"
      ]
     },
     "metadata": {},
     "output_type": "display_data"
    }
   ],
   "source": [
    "plt.figure(figsize=(12, 4))\n",
    "plt.subplot(1, 2, 1)\n",
    "plt.plot(epochs, train_loss, label='Training loss')\n",
    "plt.plot(epochs, val_loss, label='Validation loss')\n",
    "plt.title('Training and validation loss')\n",
    "plt.legend()\n",
    "# plt.grid()\n",
    "\n",
    "plt.subplot(1, 2, 2)\n",
    "plt.plot(epochs, train_acc, label='Training accuracy')\n",
    "plt.plot(epochs, val_acc, label='Validation accuracy')\n",
    "plt.title('Training and validation accuracy')\n",
    "# plt.grid()\n",
    "plt.legend()\n",
    "plt.show()"
   ]
  },
  {
   "cell_type": "markdown",
   "id": "1f27e1bf",
   "metadata": {
    "id": "1f27e1bf"
   },
   "source": [
    "Finally, we perform a test on a completely new, unseen dataset to prove that our model has indeed learnt how to classify images correctly."
   ]
  },
  {
   "cell_type": "code",
   "execution_count": null,
   "id": "6ac1c119",
   "metadata": {
    "colab": {
     "base_uri": "https://localhost:8080/"
    },
    "executionInfo": {
     "elapsed": 1344,
     "status": "ok",
     "timestamp": 1739187808254,
     "user": {
      "displayName": "Bazyli Widawski",
      "userId": "11320367441125591617"
     },
     "user_tz": -60
    },
    "id": "6ac1c119",
    "outputId": "8f819139-c28c-4fdc-e8fa-5d86ecd7df5d"
   },
   "outputs": [
    {
     "name": "stdout",
     "output_type": "stream",
     "text": [
      "\u001b[1m313/313\u001b[0m \u001b[32m━━━━━━━━━━━━━━━━━━━━\u001b[0m\u001b[37m\u001b[0m \u001b[1m1s\u001b[0m 2ms/step - accuracy: 0.9536 - loss: 0.2108\n",
      "test_acc: 0.9575999975204468\n"
     ]
    }
   ],
   "source": [
    "test_loss, test_acc = model.evaluate(x_test, y_test)\n",
    "print('test_acc:', test_acc)"
   ]
  },
  {
   "cell_type": "markdown",
   "id": "29ae1420",
   "metadata": {
    "id": "29ae1420"
   },
   "source": [
    "From here, there are a lot of things we can do to continue our research:\n",
    "- Save the model for use elsewhere or training at a later time\n",
    "- Perform cross-validation\n",
    "- Search for optimal hyperparameters\n",
    "- Find and implement different neural network models.\n",
    "- ..."
   ]
  },
  {
   "cell_type": "code",
   "execution_count": null,
   "id": "bt70kaLmVVmq",
   "metadata": {
    "colab": {
     "base_uri": "https://localhost:8080/",
     "height": 822
    },
    "executionInfo": {
     "elapsed": 1572,
     "status": "ok",
     "timestamp": 1739187919847,
     "user": {
      "displayName": "Bazyli Widawski",
      "userId": "11320367441125591617"
     },
     "user_tz": -60
    },
    "id": "bt70kaLmVVmq",
    "outputId": "1d80ccf9-9875-416a-94c1-c53a38ecc326"
   },
   "outputs": [
    {
     "name": "stdout",
     "output_type": "stream",
     "text": [
      "\u001b[1m313/313\u001b[0m \u001b[32m━━━━━━━━━━━━━━━━━━━━\u001b[0m\u001b[37m\u001b[0m \u001b[1m1s\u001b[0m 2ms/step\n"
     ]
    },
    {
     "data": {
      "image/png": "[encoded data removed]",
      "text/plain": [
       "<Figure size 800x800 with 9 Axes>"
      ]
     },
     "metadata": {},
     "output_type": "display_data"
    }
   ],
   "source": [
    "# Predictions generation\n",
    "y_pred = model.predict(x_test)\n",
    "y_pred_classes = np.argmax(y_pred, axis=1)\n",
    "\n",
    "# Select first 9 predictions\n",
    "num_samples = 9\n",
    "x_test_sample = x_test[:num_samples]\n",
    "y_test_sample = y_test[:num_samples]\n",
    "y_pred_sample = y_pred_classes[:num_samples]\n",
    "\n",
    "# Visualize using 3 by 3 grid\n",
    "fig, axes = plt.subplots(3, 3, figsize=(8, 8))\n",
    "fig.suptitle(f\"Test Accuracy: {test_acc:.2%}\", fontsize=14)\n",
    "\n",
    "for i, ax in enumerate(axes.flat):\n",
    "    ax.imshow(x_test_sample[i].reshape(28, 28), cmap='gray')\n",
    "    ax.set_title(f\"Pred: {y_pred_sample[i]},\\n{y_test_sample[i]}\")\n",
    "    ax.axis('off')\n",
    "\n",
    "plt.tight_layout(rect=[0, 0, 1, 0.96])\n",
    "plt.show()"
   ]
  }
 ],
 "metadata": {
  "colab": {
   "provenance": []
  },
  "kernelspec": {
   "display_name": "Python 3 (ipykernel)",
   "language": "python",
   "name": "python3"
  },
  "language_info": {
   "codemirror_mode": {
    "name": "ipython",
    "version": 3
   },
   "file_extension": ".py",
   "mimetype": "text/x-python",
   "name": "python",
   "nbconvert_exporter": "python",
   "pygments_lexer": "ipython3",
   "version": "3.12.4"
  }
 },
 "nbformat": 4,
 "nbformat_minor": 5
}
